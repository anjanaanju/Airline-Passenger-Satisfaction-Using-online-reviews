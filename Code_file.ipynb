{
  "nbformat": 4,
  "nbformat_minor": 0,
  "metadata": {
    "colab": {
      "provenance": []
    },
    "kernelspec": {
      "name": "python3",
      "display_name": "Python 3"
    },
    "language_info": {
      "name": "python"
    },
    "accelerator": "GPU",
    "gpuClass": "standard",
    "widgets": {
      "application/vnd.jupyter.widget-state+json": {
        "b721cc13749f4a12a597cbebd4f6aff6": {
          "model_module": "@jupyter-widgets/controls",
          "model_name": "HBoxModel",
          "model_module_version": "1.5.0",
          "state": {
            "_dom_classes": [],
            "_model_module": "@jupyter-widgets/controls",
            "_model_module_version": "1.5.0",
            "_model_name": "HBoxModel",
            "_view_count": null,
            "_view_module": "@jupyter-widgets/controls",
            "_view_module_version": "1.5.0",
            "_view_name": "HBoxView",
            "box_style": "",
            "children": [
              "IPY_MODEL_22060893d739434f9dfe8c21ee33eb37",
              "IPY_MODEL_1231a9bb0327433f9d4326d3710a0257",
              "IPY_MODEL_4517734e77b54044bf1e2728a19197ec"
            ],
            "layout": "IPY_MODEL_0ac9ad59d17c483c9c4eb980f6f46d0f"
          }
        },
        "22060893d739434f9dfe8c21ee33eb37": {
          "model_module": "@jupyter-widgets/controls",
          "model_name": "HTMLModel",
          "model_module_version": "1.5.0",
          "state": {
            "_dom_classes": [],
            "_model_module": "@jupyter-widgets/controls",
            "_model_module_version": "1.5.0",
            "_model_name": "HTMLModel",
            "_view_count": null,
            "_view_module": "@jupyter-widgets/controls",
            "_view_module_version": "1.5.0",
            "_view_name": "HTMLView",
            "description": "",
            "description_tooltip": null,
            "layout": "IPY_MODEL_297194fd9ce541b9a028db52df290ce4",
            "placeholder": "​",
            "style": "IPY_MODEL_078a0438d558481c82497a7a586f6895",
            "value": "100%"
          }
        },
        "1231a9bb0327433f9d4326d3710a0257": {
          "model_module": "@jupyter-widgets/controls",
          "model_name": "FloatProgressModel",
          "model_module_version": "1.5.0",
          "state": {
            "_dom_classes": [],
            "_model_module": "@jupyter-widgets/controls",
            "_model_module_version": "1.5.0",
            "_model_name": "FloatProgressModel",
            "_view_count": null,
            "_view_module": "@jupyter-widgets/controls",
            "_view_module_version": "1.5.0",
            "_view_name": "ProgressView",
            "bar_style": "success",
            "description": "",
            "description_tooltip": null,
            "layout": "IPY_MODEL_2f0605f3acc14f9fab83f3191d0b6fa3",
            "max": 5,
            "min": 0,
            "orientation": "horizontal",
            "style": "IPY_MODEL_fe4d1323f0d8406c893b842c44e56e6d",
            "value": 5
          }
        },
        "4517734e77b54044bf1e2728a19197ec": {
          "model_module": "@jupyter-widgets/controls",
          "model_name": "HTMLModel",
          "model_module_version": "1.5.0",
          "state": {
            "_dom_classes": [],
            "_model_module": "@jupyter-widgets/controls",
            "_model_module_version": "1.5.0",
            "_model_name": "HTMLModel",
            "_view_count": null,
            "_view_module": "@jupyter-widgets/controls",
            "_view_module_version": "1.5.0",
            "_view_name": "HTMLView",
            "description": "",
            "description_tooltip": null,
            "layout": "IPY_MODEL_861d3e729cca4194bf8a638d926d78ad",
            "placeholder": "​",
            "style": "IPY_MODEL_b2cad3e99d3c45dcaeba0d6de155394d",
            "value": " 5/5 [00:50&lt;00:00,  9.63s/it]"
          }
        },
        "0ac9ad59d17c483c9c4eb980f6f46d0f": {
          "model_module": "@jupyter-widgets/base",
          "model_name": "LayoutModel",
          "model_module_version": "1.2.0",
          "state": {
            "_model_module": "@jupyter-widgets/base",
            "_model_module_version": "1.2.0",
            "_model_name": "LayoutModel",
            "_view_count": null,
            "_view_module": "@jupyter-widgets/base",
            "_view_module_version": "1.2.0",
            "_view_name": "LayoutView",
            "align_content": null,
            "align_items": null,
            "align_self": null,
            "border": null,
            "bottom": null,
            "display": null,
            "flex": null,
            "flex_flow": null,
            "grid_area": null,
            "grid_auto_columns": null,
            "grid_auto_flow": null,
            "grid_auto_rows": null,
            "grid_column": null,
            "grid_gap": null,
            "grid_row": null,
            "grid_template_areas": null,
            "grid_template_columns": null,
            "grid_template_rows": null,
            "height": null,
            "justify_content": null,
            "justify_items": null,
            "left": null,
            "margin": null,
            "max_height": null,
            "max_width": null,
            "min_height": null,
            "min_width": null,
            "object_fit": null,
            "object_position": null,
            "order": null,
            "overflow": null,
            "overflow_x": null,
            "overflow_y": null,
            "padding": null,
            "right": null,
            "top": null,
            "visibility": null,
            "width": null
          }
        },
        "297194fd9ce541b9a028db52df290ce4": {
          "model_module": "@jupyter-widgets/base",
          "model_name": "LayoutModel",
          "model_module_version": "1.2.0",
          "state": {
            "_model_module": "@jupyter-widgets/base",
            "_model_module_version": "1.2.0",
            "_model_name": "LayoutModel",
            "_view_count": null,
            "_view_module": "@jupyter-widgets/base",
            "_view_module_version": "1.2.0",
            "_view_name": "LayoutView",
            "align_content": null,
            "align_items": null,
            "align_self": null,
            "border": null,
            "bottom": null,
            "display": null,
            "flex": null,
            "flex_flow": null,
            "grid_area": null,
            "grid_auto_columns": null,
            "grid_auto_flow": null,
            "grid_auto_rows": null,
            "grid_column": null,
            "grid_gap": null,
            "grid_row": null,
            "grid_template_areas": null,
            "grid_template_columns": null,
            "grid_template_rows": null,
            "height": null,
            "justify_content": null,
            "justify_items": null,
            "left": null,
            "margin": null,
            "max_height": null,
            "max_width": null,
            "min_height": null,
            "min_width": null,
            "object_fit": null,
            "object_position": null,
            "order": null,
            "overflow": null,
            "overflow_x": null,
            "overflow_y": null,
            "padding": null,
            "right": null,
            "top": null,
            "visibility": null,
            "width": null
          }
        },
        "078a0438d558481c82497a7a586f6895": {
          "model_module": "@jupyter-widgets/controls",
          "model_name": "DescriptionStyleModel",
          "model_module_version": "1.5.0",
          "state": {
            "_model_module": "@jupyter-widgets/controls",
            "_model_module_version": "1.5.0",
            "_model_name": "DescriptionStyleModel",
            "_view_count": null,
            "_view_module": "@jupyter-widgets/base",
            "_view_module_version": "1.2.0",
            "_view_name": "StyleView",
            "description_width": ""
          }
        },
        "2f0605f3acc14f9fab83f3191d0b6fa3": {
          "model_module": "@jupyter-widgets/base",
          "model_name": "LayoutModel",
          "model_module_version": "1.2.0",
          "state": {
            "_model_module": "@jupyter-widgets/base",
            "_model_module_version": "1.2.0",
            "_model_name": "LayoutModel",
            "_view_count": null,
            "_view_module": "@jupyter-widgets/base",
            "_view_module_version": "1.2.0",
            "_view_name": "LayoutView",
            "align_content": null,
            "align_items": null,
            "align_self": null,
            "border": null,
            "bottom": null,
            "display": null,
            "flex": null,
            "flex_flow": null,
            "grid_area": null,
            "grid_auto_columns": null,
            "grid_auto_flow": null,
            "grid_auto_rows": null,
            "grid_column": null,
            "grid_gap": null,
            "grid_row": null,
            "grid_template_areas": null,
            "grid_template_columns": null,
            "grid_template_rows": null,
            "height": null,
            "justify_content": null,
            "justify_items": null,
            "left": null,
            "margin": null,
            "max_height": null,
            "max_width": null,
            "min_height": null,
            "min_width": null,
            "object_fit": null,
            "object_position": null,
            "order": null,
            "overflow": null,
            "overflow_x": null,
            "overflow_y": null,
            "padding": null,
            "right": null,
            "top": null,
            "visibility": null,
            "width": null
          }
        },
        "fe4d1323f0d8406c893b842c44e56e6d": {
          "model_module": "@jupyter-widgets/controls",
          "model_name": "ProgressStyleModel",
          "model_module_version": "1.5.0",
          "state": {
            "_model_module": "@jupyter-widgets/controls",
            "_model_module_version": "1.5.0",
            "_model_name": "ProgressStyleModel",
            "_view_count": null,
            "_view_module": "@jupyter-widgets/base",
            "_view_module_version": "1.2.0",
            "_view_name": "StyleView",
            "bar_color": null,
            "description_width": ""
          }
        },
        "861d3e729cca4194bf8a638d926d78ad": {
          "model_module": "@jupyter-widgets/base",
          "model_name": "LayoutModel",
          "model_module_version": "1.2.0",
          "state": {
            "_model_module": "@jupyter-widgets/base",
            "_model_module_version": "1.2.0",
            "_model_name": "LayoutModel",
            "_view_count": null,
            "_view_module": "@jupyter-widgets/base",
            "_view_module_version": "1.2.0",
            "_view_name": "LayoutView",
            "align_content": null,
            "align_items": null,
            "align_self": null,
            "border": null,
            "bottom": null,
            "display": null,
            "flex": null,
            "flex_flow": null,
            "grid_area": null,
            "grid_auto_columns": null,
            "grid_auto_flow": null,
            "grid_auto_rows": null,
            "grid_column": null,
            "grid_gap": null,
            "grid_row": null,
            "grid_template_areas": null,
            "grid_template_columns": null,
            "grid_template_rows": null,
            "height": null,
            "justify_content": null,
            "justify_items": null,
            "left": null,
            "margin": null,
            "max_height": null,
            "max_width": null,
            "min_height": null,
            "min_width": null,
            "object_fit": null,
            "object_position": null,
            "order": null,
            "overflow": null,
            "overflow_x": null,
            "overflow_y": null,
            "padding": null,
            "right": null,
            "top": null,
            "visibility": null,
            "width": null
          }
        },
        "b2cad3e99d3c45dcaeba0d6de155394d": {
          "model_module": "@jupyter-widgets/controls",
          "model_name": "DescriptionStyleModel",
          "model_module_version": "1.5.0",
          "state": {
            "_model_module": "@jupyter-widgets/controls",
            "_model_module_version": "1.5.0",
            "_model_name": "DescriptionStyleModel",
            "_view_count": null,
            "_view_module": "@jupyter-widgets/base",
            "_view_module_version": "1.2.0",
            "_view_name": "StyleView",
            "description_width": ""
          }
        },
        "366c689c80474e50881e72d91af95a1b": {
          "model_module": "@jupyter-widgets/controls",
          "model_name": "HBoxModel",
          "model_module_version": "1.5.0",
          "state": {
            "_dom_classes": [],
            "_model_module": "@jupyter-widgets/controls",
            "_model_module_version": "1.5.0",
            "_model_name": "HBoxModel",
            "_view_count": null,
            "_view_module": "@jupyter-widgets/controls",
            "_view_module_version": "1.5.0",
            "_view_name": "HBoxView",
            "box_style": "",
            "children": [
              "IPY_MODEL_200146300386438080dec282d951f8bf",
              "IPY_MODEL_0aaf5b0dbd8240e1a6c781ae7247ba07",
              "IPY_MODEL_4d4d93c55ff748fb9a3869206c1b93b0"
            ],
            "layout": "IPY_MODEL_91beab86963949fea349cfe48f1718e5"
          }
        },
        "200146300386438080dec282d951f8bf": {
          "model_module": "@jupyter-widgets/controls",
          "model_name": "HTMLModel",
          "model_module_version": "1.5.0",
          "state": {
            "_dom_classes": [],
            "_model_module": "@jupyter-widgets/controls",
            "_model_module_version": "1.5.0",
            "_model_name": "HTMLModel",
            "_view_count": null,
            "_view_module": "@jupyter-widgets/controls",
            "_view_module_version": "1.5.0",
            "_view_name": "HTMLView",
            "description": "",
            "description_tooltip": null,
            "layout": "IPY_MODEL_1ac80e94b73c4f3080d6e96e9daff219",
            "placeholder": "​",
            "style": "IPY_MODEL_c470275d9d754c6ba945f0390ce16ef4",
            "value": "Epoch 1: 100%"
          }
        },
        "0aaf5b0dbd8240e1a6c781ae7247ba07": {
          "model_module": "@jupyter-widgets/controls",
          "model_name": "FloatProgressModel",
          "model_module_version": "1.5.0",
          "state": {
            "_dom_classes": [],
            "_model_module": "@jupyter-widgets/controls",
            "_model_module_version": "1.5.0",
            "_model_name": "FloatProgressModel",
            "_view_count": null,
            "_view_module": "@jupyter-widgets/controls",
            "_view_module_version": "1.5.0",
            "_view_name": "ProgressView",
            "bar_style": "",
            "description": "",
            "description_tooltip": null,
            "layout": "IPY_MODEL_b9309a8853be4dadafc3b7ece94a6dd0",
            "max": 48,
            "min": 0,
            "orientation": "horizontal",
            "style": "IPY_MODEL_00b9a047db5d44b48f68c8af3eb799bb",
            "value": 48
          }
        },
        "4d4d93c55ff748fb9a3869206c1b93b0": {
          "model_module": "@jupyter-widgets/controls",
          "model_name": "HTMLModel",
          "model_module_version": "1.5.0",
          "state": {
            "_dom_classes": [],
            "_model_module": "@jupyter-widgets/controls",
            "_model_module_version": "1.5.0",
            "_model_name": "HTMLModel",
            "_view_count": null,
            "_view_module": "@jupyter-widgets/controls",
            "_view_module_version": "1.5.0",
            "_view_name": "HTMLView",
            "description": "",
            "description_tooltip": null,
            "layout": "IPY_MODEL_61de0d7f52fb4a05838b60aeb4e16f34",
            "placeholder": "​",
            "style": "IPY_MODEL_9992069839bf4f3694c2b51ffe3f8bc3",
            "value": " 48/48 [00:08&lt;00:00,  6.23it/s, training_loss=0.296]"
          }
        },
        "91beab86963949fea349cfe48f1718e5": {
          "model_module": "@jupyter-widgets/base",
          "model_name": "LayoutModel",
          "model_module_version": "1.2.0",
          "state": {
            "_model_module": "@jupyter-widgets/base",
            "_model_module_version": "1.2.0",
            "_model_name": "LayoutModel",
            "_view_count": null,
            "_view_module": "@jupyter-widgets/base",
            "_view_module_version": "1.2.0",
            "_view_name": "LayoutView",
            "align_content": null,
            "align_items": null,
            "align_self": null,
            "border": null,
            "bottom": null,
            "display": null,
            "flex": null,
            "flex_flow": null,
            "grid_area": null,
            "grid_auto_columns": null,
            "grid_auto_flow": null,
            "grid_auto_rows": null,
            "grid_column": null,
            "grid_gap": null,
            "grid_row": null,
            "grid_template_areas": null,
            "grid_template_columns": null,
            "grid_template_rows": null,
            "height": null,
            "justify_content": null,
            "justify_items": null,
            "left": null,
            "margin": null,
            "max_height": null,
            "max_width": null,
            "min_height": null,
            "min_width": null,
            "object_fit": null,
            "object_position": null,
            "order": null,
            "overflow": null,
            "overflow_x": null,
            "overflow_y": null,
            "padding": null,
            "right": null,
            "top": null,
            "visibility": "hidden",
            "width": null
          }
        },
        "1ac80e94b73c4f3080d6e96e9daff219": {
          "model_module": "@jupyter-widgets/base",
          "model_name": "LayoutModel",
          "model_module_version": "1.2.0",
          "state": {
            "_model_module": "@jupyter-widgets/base",
            "_model_module_version": "1.2.0",
            "_model_name": "LayoutModel",
            "_view_count": null,
            "_view_module": "@jupyter-widgets/base",
            "_view_module_version": "1.2.0",
            "_view_name": "LayoutView",
            "align_content": null,
            "align_items": null,
            "align_self": null,
            "border": null,
            "bottom": null,
            "display": null,
            "flex": null,
            "flex_flow": null,
            "grid_area": null,
            "grid_auto_columns": null,
            "grid_auto_flow": null,
            "grid_auto_rows": null,
            "grid_column": null,
            "grid_gap": null,
            "grid_row": null,
            "grid_template_areas": null,
            "grid_template_columns": null,
            "grid_template_rows": null,
            "height": null,
            "justify_content": null,
            "justify_items": null,
            "left": null,
            "margin": null,
            "max_height": null,
            "max_width": null,
            "min_height": null,
            "min_width": null,
            "object_fit": null,
            "object_position": null,
            "order": null,
            "overflow": null,
            "overflow_x": null,
            "overflow_y": null,
            "padding": null,
            "right": null,
            "top": null,
            "visibility": null,
            "width": null
          }
        },
        "c470275d9d754c6ba945f0390ce16ef4": {
          "model_module": "@jupyter-widgets/controls",
          "model_name": "DescriptionStyleModel",
          "model_module_version": "1.5.0",
          "state": {
            "_model_module": "@jupyter-widgets/controls",
            "_model_module_version": "1.5.0",
            "_model_name": "DescriptionStyleModel",
            "_view_count": null,
            "_view_module": "@jupyter-widgets/base",
            "_view_module_version": "1.2.0",
            "_view_name": "StyleView",
            "description_width": ""
          }
        },
        "b9309a8853be4dadafc3b7ece94a6dd0": {
          "model_module": "@jupyter-widgets/base",
          "model_name": "LayoutModel",
          "model_module_version": "1.2.0",
          "state": {
            "_model_module": "@jupyter-widgets/base",
            "_model_module_version": "1.2.0",
            "_model_name": "LayoutModel",
            "_view_count": null,
            "_view_module": "@jupyter-widgets/base",
            "_view_module_version": "1.2.0",
            "_view_name": "LayoutView",
            "align_content": null,
            "align_items": null,
            "align_self": null,
            "border": null,
            "bottom": null,
            "display": null,
            "flex": null,
            "flex_flow": null,
            "grid_area": null,
            "grid_auto_columns": null,
            "grid_auto_flow": null,
            "grid_auto_rows": null,
            "grid_column": null,
            "grid_gap": null,
            "grid_row": null,
            "grid_template_areas": null,
            "grid_template_columns": null,
            "grid_template_rows": null,
            "height": null,
            "justify_content": null,
            "justify_items": null,
            "left": null,
            "margin": null,
            "max_height": null,
            "max_width": null,
            "min_height": null,
            "min_width": null,
            "object_fit": null,
            "object_position": null,
            "order": null,
            "overflow": null,
            "overflow_x": null,
            "overflow_y": null,
            "padding": null,
            "right": null,
            "top": null,
            "visibility": null,
            "width": null
          }
        },
        "00b9a047db5d44b48f68c8af3eb799bb": {
          "model_module": "@jupyter-widgets/controls",
          "model_name": "ProgressStyleModel",
          "model_module_version": "1.5.0",
          "state": {
            "_model_module": "@jupyter-widgets/controls",
            "_model_module_version": "1.5.0",
            "_model_name": "ProgressStyleModel",
            "_view_count": null,
            "_view_module": "@jupyter-widgets/base",
            "_view_module_version": "1.2.0",
            "_view_name": "StyleView",
            "bar_color": null,
            "description_width": ""
          }
        },
        "61de0d7f52fb4a05838b60aeb4e16f34": {
          "model_module": "@jupyter-widgets/base",
          "model_name": "LayoutModel",
          "model_module_version": "1.2.0",
          "state": {
            "_model_module": "@jupyter-widgets/base",
            "_model_module_version": "1.2.0",
            "_model_name": "LayoutModel",
            "_view_count": null,
            "_view_module": "@jupyter-widgets/base",
            "_view_module_version": "1.2.0",
            "_view_name": "LayoutView",
            "align_content": null,
            "align_items": null,
            "align_self": null,
            "border": null,
            "bottom": null,
            "display": null,
            "flex": null,
            "flex_flow": null,
            "grid_area": null,
            "grid_auto_columns": null,
            "grid_auto_flow": null,
            "grid_auto_rows": null,
            "grid_column": null,
            "grid_gap": null,
            "grid_row": null,
            "grid_template_areas": null,
            "grid_template_columns": null,
            "grid_template_rows": null,
            "height": null,
            "justify_content": null,
            "justify_items": null,
            "left": null,
            "margin": null,
            "max_height": null,
            "max_width": null,
            "min_height": null,
            "min_width": null,
            "object_fit": null,
            "object_position": null,
            "order": null,
            "overflow": null,
            "overflow_x": null,
            "overflow_y": null,
            "padding": null,
            "right": null,
            "top": null,
            "visibility": null,
            "width": null
          }
        },
        "9992069839bf4f3694c2b51ffe3f8bc3": {
          "model_module": "@jupyter-widgets/controls",
          "model_name": "DescriptionStyleModel",
          "model_module_version": "1.5.0",
          "state": {
            "_model_module": "@jupyter-widgets/controls",
            "_model_module_version": "1.5.0",
            "_model_name": "DescriptionStyleModel",
            "_view_count": null,
            "_view_module": "@jupyter-widgets/base",
            "_view_module_version": "1.2.0",
            "_view_name": "StyleView",
            "description_width": ""
          }
        },
        "f3059f75c1ad49a8991a64f9425f9c7e": {
          "model_module": "@jupyter-widgets/controls",
          "model_name": "HBoxModel",
          "model_module_version": "1.5.0",
          "state": {
            "_dom_classes": [],
            "_model_module": "@jupyter-widgets/controls",
            "_model_module_version": "1.5.0",
            "_model_name": "HBoxModel",
            "_view_count": null,
            "_view_module": "@jupyter-widgets/controls",
            "_view_module_version": "1.5.0",
            "_view_name": "HBoxView",
            "box_style": "",
            "children": [
              "IPY_MODEL_9ab0a7198cc340ecbbe2fe2cb99c8d62",
              "IPY_MODEL_a906bfcc81fd4d67b2d1beb8d674edd9",
              "IPY_MODEL_ead85d80c536458982033b4d10e4cb57"
            ],
            "layout": "IPY_MODEL_30784b9ddfc647fc8d3efd8593c76340"
          }
        },
        "9ab0a7198cc340ecbbe2fe2cb99c8d62": {
          "model_module": "@jupyter-widgets/controls",
          "model_name": "HTMLModel",
          "model_module_version": "1.5.0",
          "state": {
            "_dom_classes": [],
            "_model_module": "@jupyter-widgets/controls",
            "_model_module_version": "1.5.0",
            "_model_name": "HTMLModel",
            "_view_count": null,
            "_view_module": "@jupyter-widgets/controls",
            "_view_module_version": "1.5.0",
            "_view_name": "HTMLView",
            "description": "",
            "description_tooltip": null,
            "layout": "IPY_MODEL_be2ade9f8c0a4bb598bca44a5e182ac0",
            "placeholder": "​",
            "style": "IPY_MODEL_44c7a397bfb84ef7b2d7ed1c11493eb2",
            "value": "Epoch 2: 100%"
          }
        },
        "a906bfcc81fd4d67b2d1beb8d674edd9": {
          "model_module": "@jupyter-widgets/controls",
          "model_name": "FloatProgressModel",
          "model_module_version": "1.5.0",
          "state": {
            "_dom_classes": [],
            "_model_module": "@jupyter-widgets/controls",
            "_model_module_version": "1.5.0",
            "_model_name": "FloatProgressModel",
            "_view_count": null,
            "_view_module": "@jupyter-widgets/controls",
            "_view_module_version": "1.5.0",
            "_view_name": "ProgressView",
            "bar_style": "",
            "description": "",
            "description_tooltip": null,
            "layout": "IPY_MODEL_19c48ebfad6545abafacf17ffdf065e1",
            "max": 48,
            "min": 0,
            "orientation": "horizontal",
            "style": "IPY_MODEL_71fd04acdaf341358092e9e2b425e4ba",
            "value": 48
          }
        },
        "ead85d80c536458982033b4d10e4cb57": {
          "model_module": "@jupyter-widgets/controls",
          "model_name": "HTMLModel",
          "model_module_version": "1.5.0",
          "state": {
            "_dom_classes": [],
            "_model_module": "@jupyter-widgets/controls",
            "_model_module_version": "1.5.0",
            "_model_name": "HTMLModel",
            "_view_count": null,
            "_view_module": "@jupyter-widgets/controls",
            "_view_module_version": "1.5.0",
            "_view_name": "HTMLView",
            "description": "",
            "description_tooltip": null,
            "layout": "IPY_MODEL_3833d5db0ced4d3eb4fdd4f876e63dc2",
            "placeholder": "​",
            "style": "IPY_MODEL_134940ce636648899c82df7d09b1ee4f",
            "value": " 48/48 [00:08&lt;00:00,  4.40it/s, training_loss=0.133]"
          }
        },
        "30784b9ddfc647fc8d3efd8593c76340": {
          "model_module": "@jupyter-widgets/base",
          "model_name": "LayoutModel",
          "model_module_version": "1.2.0",
          "state": {
            "_model_module": "@jupyter-widgets/base",
            "_model_module_version": "1.2.0",
            "_model_name": "LayoutModel",
            "_view_count": null,
            "_view_module": "@jupyter-widgets/base",
            "_view_module_version": "1.2.0",
            "_view_name": "LayoutView",
            "align_content": null,
            "align_items": null,
            "align_self": null,
            "border": null,
            "bottom": null,
            "display": null,
            "flex": null,
            "flex_flow": null,
            "grid_area": null,
            "grid_auto_columns": null,
            "grid_auto_flow": null,
            "grid_auto_rows": null,
            "grid_column": null,
            "grid_gap": null,
            "grid_row": null,
            "grid_template_areas": null,
            "grid_template_columns": null,
            "grid_template_rows": null,
            "height": null,
            "justify_content": null,
            "justify_items": null,
            "left": null,
            "margin": null,
            "max_height": null,
            "max_width": null,
            "min_height": null,
            "min_width": null,
            "object_fit": null,
            "object_position": null,
            "order": null,
            "overflow": null,
            "overflow_x": null,
            "overflow_y": null,
            "padding": null,
            "right": null,
            "top": null,
            "visibility": "hidden",
            "width": null
          }
        },
        "be2ade9f8c0a4bb598bca44a5e182ac0": {
          "model_module": "@jupyter-widgets/base",
          "model_name": "LayoutModel",
          "model_module_version": "1.2.0",
          "state": {
            "_model_module": "@jupyter-widgets/base",
            "_model_module_version": "1.2.0",
            "_model_name": "LayoutModel",
            "_view_count": null,
            "_view_module": "@jupyter-widgets/base",
            "_view_module_version": "1.2.0",
            "_view_name": "LayoutView",
            "align_content": null,
            "align_items": null,
            "align_self": null,
            "border": null,
            "bottom": null,
            "display": null,
            "flex": null,
            "flex_flow": null,
            "grid_area": null,
            "grid_auto_columns": null,
            "grid_auto_flow": null,
            "grid_auto_rows": null,
            "grid_column": null,
            "grid_gap": null,
            "grid_row": null,
            "grid_template_areas": null,
            "grid_template_columns": null,
            "grid_template_rows": null,
            "height": null,
            "justify_content": null,
            "justify_items": null,
            "left": null,
            "margin": null,
            "max_height": null,
            "max_width": null,
            "min_height": null,
            "min_width": null,
            "object_fit": null,
            "object_position": null,
            "order": null,
            "overflow": null,
            "overflow_x": null,
            "overflow_y": null,
            "padding": null,
            "right": null,
            "top": null,
            "visibility": null,
            "width": null
          }
        },
        "44c7a397bfb84ef7b2d7ed1c11493eb2": {
          "model_module": "@jupyter-widgets/controls",
          "model_name": "DescriptionStyleModel",
          "model_module_version": "1.5.0",
          "state": {
            "_model_module": "@jupyter-widgets/controls",
            "_model_module_version": "1.5.0",
            "_model_name": "DescriptionStyleModel",
            "_view_count": null,
            "_view_module": "@jupyter-widgets/base",
            "_view_module_version": "1.2.0",
            "_view_name": "StyleView",
            "description_width": ""
          }
        },
        "19c48ebfad6545abafacf17ffdf065e1": {
          "model_module": "@jupyter-widgets/base",
          "model_name": "LayoutModel",
          "model_module_version": "1.2.0",
          "state": {
            "_model_module": "@jupyter-widgets/base",
            "_model_module_version": "1.2.0",
            "_model_name": "LayoutModel",
            "_view_count": null,
            "_view_module": "@jupyter-widgets/base",
            "_view_module_version": "1.2.0",
            "_view_name": "LayoutView",
            "align_content": null,
            "align_items": null,
            "align_self": null,
            "border": null,
            "bottom": null,
            "display": null,
            "flex": null,
            "flex_flow": null,
            "grid_area": null,
            "grid_auto_columns": null,
            "grid_auto_flow": null,
            "grid_auto_rows": null,
            "grid_column": null,
            "grid_gap": null,
            "grid_row": null,
            "grid_template_areas": null,
            "grid_template_columns": null,
            "grid_template_rows": null,
            "height": null,
            "justify_content": null,
            "justify_items": null,
            "left": null,
            "margin": null,
            "max_height": null,
            "max_width": null,
            "min_height": null,
            "min_width": null,
            "object_fit": null,
            "object_position": null,
            "order": null,
            "overflow": null,
            "overflow_x": null,
            "overflow_y": null,
            "padding": null,
            "right": null,
            "top": null,
            "visibility": null,
            "width": null
          }
        },
        "71fd04acdaf341358092e9e2b425e4ba": {
          "model_module": "@jupyter-widgets/controls",
          "model_name": "ProgressStyleModel",
          "model_module_version": "1.5.0",
          "state": {
            "_model_module": "@jupyter-widgets/controls",
            "_model_module_version": "1.5.0",
            "_model_name": "ProgressStyleModel",
            "_view_count": null,
            "_view_module": "@jupyter-widgets/base",
            "_view_module_version": "1.2.0",
            "_view_name": "StyleView",
            "bar_color": null,
            "description_width": ""
          }
        },
        "3833d5db0ced4d3eb4fdd4f876e63dc2": {
          "model_module": "@jupyter-widgets/base",
          "model_name": "LayoutModel",
          "model_module_version": "1.2.0",
          "state": {
            "_model_module": "@jupyter-widgets/base",
            "_model_module_version": "1.2.0",
            "_model_name": "LayoutModel",
            "_view_count": null,
            "_view_module": "@jupyter-widgets/base",
            "_view_module_version": "1.2.0",
            "_view_name": "LayoutView",
            "align_content": null,
            "align_items": null,
            "align_self": null,
            "border": null,
            "bottom": null,
            "display": null,
            "flex": null,
            "flex_flow": null,
            "grid_area": null,
            "grid_auto_columns": null,
            "grid_auto_flow": null,
            "grid_auto_rows": null,
            "grid_column": null,
            "grid_gap": null,
            "grid_row": null,
            "grid_template_areas": null,
            "grid_template_columns": null,
            "grid_template_rows": null,
            "height": null,
            "justify_content": null,
            "justify_items": null,
            "left": null,
            "margin": null,
            "max_height": null,
            "max_width": null,
            "min_height": null,
            "min_width": null,
            "object_fit": null,
            "object_position": null,
            "order": null,
            "overflow": null,
            "overflow_x": null,
            "overflow_y": null,
            "padding": null,
            "right": null,
            "top": null,
            "visibility": null,
            "width": null
          }
        },
        "134940ce636648899c82df7d09b1ee4f": {
          "model_module": "@jupyter-widgets/controls",
          "model_name": "DescriptionStyleModel",
          "model_module_version": "1.5.0",
          "state": {
            "_model_module": "@jupyter-widgets/controls",
            "_model_module_version": "1.5.0",
            "_model_name": "DescriptionStyleModel",
            "_view_count": null,
            "_view_module": "@jupyter-widgets/base",
            "_view_module_version": "1.2.0",
            "_view_name": "StyleView",
            "description_width": ""
          }
        },
        "ec65e9de282d4cd6960554430ca3b272": {
          "model_module": "@jupyter-widgets/controls",
          "model_name": "HBoxModel",
          "model_module_version": "1.5.0",
          "state": {
            "_dom_classes": [],
            "_model_module": "@jupyter-widgets/controls",
            "_model_module_version": "1.5.0",
            "_model_name": "HBoxModel",
            "_view_count": null,
            "_view_module": "@jupyter-widgets/controls",
            "_view_module_version": "1.5.0",
            "_view_name": "HBoxView",
            "box_style": "",
            "children": [
              "IPY_MODEL_52f8fdc2e55944ada97eb5e63d6e353d",
              "IPY_MODEL_d2f3c4a27942442584e3bb6ec4051789",
              "IPY_MODEL_20b7702410c3477a9bde99517e48c528"
            ],
            "layout": "IPY_MODEL_1a78626150c24572913e8032f6647d87"
          }
        },
        "52f8fdc2e55944ada97eb5e63d6e353d": {
          "model_module": "@jupyter-widgets/controls",
          "model_name": "HTMLModel",
          "model_module_version": "1.5.0",
          "state": {
            "_dom_classes": [],
            "_model_module": "@jupyter-widgets/controls",
            "_model_module_version": "1.5.0",
            "_model_name": "HTMLModel",
            "_view_count": null,
            "_view_module": "@jupyter-widgets/controls",
            "_view_module_version": "1.5.0",
            "_view_name": "HTMLView",
            "description": "",
            "description_tooltip": null,
            "layout": "IPY_MODEL_26fd8ef48043437290621c1f999aa7cd",
            "placeholder": "​",
            "style": "IPY_MODEL_18e7bb1e976843a19484babb5cd14e68",
            "value": "Epoch 3: 100%"
          }
        },
        "d2f3c4a27942442584e3bb6ec4051789": {
          "model_module": "@jupyter-widgets/controls",
          "model_name": "FloatProgressModel",
          "model_module_version": "1.5.0",
          "state": {
            "_dom_classes": [],
            "_model_module": "@jupyter-widgets/controls",
            "_model_module_version": "1.5.0",
            "_model_name": "FloatProgressModel",
            "_view_count": null,
            "_view_module": "@jupyter-widgets/controls",
            "_view_module_version": "1.5.0",
            "_view_name": "ProgressView",
            "bar_style": "",
            "description": "",
            "description_tooltip": null,
            "layout": "IPY_MODEL_623bcfbf56ad43c7bdf343136c6fd580",
            "max": 48,
            "min": 0,
            "orientation": "horizontal",
            "style": "IPY_MODEL_1954da9b0be44ff7b9b915928cc3a34c",
            "value": 48
          }
        },
        "20b7702410c3477a9bde99517e48c528": {
          "model_module": "@jupyter-widgets/controls",
          "model_name": "HTMLModel",
          "model_module_version": "1.5.0",
          "state": {
            "_dom_classes": [],
            "_model_module": "@jupyter-widgets/controls",
            "_model_module_version": "1.5.0",
            "_model_name": "HTMLModel",
            "_view_count": null,
            "_view_module": "@jupyter-widgets/controls",
            "_view_module_version": "1.5.0",
            "_view_name": "HTMLView",
            "description": "",
            "description_tooltip": null,
            "layout": "IPY_MODEL_9bc3bdc3d8d643e588b175f7a89d222f",
            "placeholder": "​",
            "style": "IPY_MODEL_a351a69a665a436b9f6903a6e8caa88f",
            "value": " 48/48 [00:07&lt;00:00,  7.55it/s, training_loss=0.100]"
          }
        },
        "1a78626150c24572913e8032f6647d87": {
          "model_module": "@jupyter-widgets/base",
          "model_name": "LayoutModel",
          "model_module_version": "1.2.0",
          "state": {
            "_model_module": "@jupyter-widgets/base",
            "_model_module_version": "1.2.0",
            "_model_name": "LayoutModel",
            "_view_count": null,
            "_view_module": "@jupyter-widgets/base",
            "_view_module_version": "1.2.0",
            "_view_name": "LayoutView",
            "align_content": null,
            "align_items": null,
            "align_self": null,
            "border": null,
            "bottom": null,
            "display": null,
            "flex": null,
            "flex_flow": null,
            "grid_area": null,
            "grid_auto_columns": null,
            "grid_auto_flow": null,
            "grid_auto_rows": null,
            "grid_column": null,
            "grid_gap": null,
            "grid_row": null,
            "grid_template_areas": null,
            "grid_template_columns": null,
            "grid_template_rows": null,
            "height": null,
            "justify_content": null,
            "justify_items": null,
            "left": null,
            "margin": null,
            "max_height": null,
            "max_width": null,
            "min_height": null,
            "min_width": null,
            "object_fit": null,
            "object_position": null,
            "order": null,
            "overflow": null,
            "overflow_x": null,
            "overflow_y": null,
            "padding": null,
            "right": null,
            "top": null,
            "visibility": "hidden",
            "width": null
          }
        },
        "26fd8ef48043437290621c1f999aa7cd": {
          "model_module": "@jupyter-widgets/base",
          "model_name": "LayoutModel",
          "model_module_version": "1.2.0",
          "state": {
            "_model_module": "@jupyter-widgets/base",
            "_model_module_version": "1.2.0",
            "_model_name": "LayoutModel",
            "_view_count": null,
            "_view_module": "@jupyter-widgets/base",
            "_view_module_version": "1.2.0",
            "_view_name": "LayoutView",
            "align_content": null,
            "align_items": null,
            "align_self": null,
            "border": null,
            "bottom": null,
            "display": null,
            "flex": null,
            "flex_flow": null,
            "grid_area": null,
            "grid_auto_columns": null,
            "grid_auto_flow": null,
            "grid_auto_rows": null,
            "grid_column": null,
            "grid_gap": null,
            "grid_row": null,
            "grid_template_areas": null,
            "grid_template_columns": null,
            "grid_template_rows": null,
            "height": null,
            "justify_content": null,
            "justify_items": null,
            "left": null,
            "margin": null,
            "max_height": null,
            "max_width": null,
            "min_height": null,
            "min_width": null,
            "object_fit": null,
            "object_position": null,
            "order": null,
            "overflow": null,
            "overflow_x": null,
            "overflow_y": null,
            "padding": null,
            "right": null,
            "top": null,
            "visibility": null,
            "width": null
          }
        },
        "18e7bb1e976843a19484babb5cd14e68": {
          "model_module": "@jupyter-widgets/controls",
          "model_name": "DescriptionStyleModel",
          "model_module_version": "1.5.0",
          "state": {
            "_model_module": "@jupyter-widgets/controls",
            "_model_module_version": "1.5.0",
            "_model_name": "DescriptionStyleModel",
            "_view_count": null,
            "_view_module": "@jupyter-widgets/base",
            "_view_module_version": "1.2.0",
            "_view_name": "StyleView",
            "description_width": ""
          }
        },
        "623bcfbf56ad43c7bdf343136c6fd580": {
          "model_module": "@jupyter-widgets/base",
          "model_name": "LayoutModel",
          "model_module_version": "1.2.0",
          "state": {
            "_model_module": "@jupyter-widgets/base",
            "_model_module_version": "1.2.0",
            "_model_name": "LayoutModel",
            "_view_count": null,
            "_view_module": "@jupyter-widgets/base",
            "_view_module_version": "1.2.0",
            "_view_name": "LayoutView",
            "align_content": null,
            "align_items": null,
            "align_self": null,
            "border": null,
            "bottom": null,
            "display": null,
            "flex": null,
            "flex_flow": null,
            "grid_area": null,
            "grid_auto_columns": null,
            "grid_auto_flow": null,
            "grid_auto_rows": null,
            "grid_column": null,
            "grid_gap": null,
            "grid_row": null,
            "grid_template_areas": null,
            "grid_template_columns": null,
            "grid_template_rows": null,
            "height": null,
            "justify_content": null,
            "justify_items": null,
            "left": null,
            "margin": null,
            "max_height": null,
            "max_width": null,
            "min_height": null,
            "min_width": null,
            "object_fit": null,
            "object_position": null,
            "order": null,
            "overflow": null,
            "overflow_x": null,
            "overflow_y": null,
            "padding": null,
            "right": null,
            "top": null,
            "visibility": null,
            "width": null
          }
        },
        "1954da9b0be44ff7b9b915928cc3a34c": {
          "model_module": "@jupyter-widgets/controls",
          "model_name": "ProgressStyleModel",
          "model_module_version": "1.5.0",
          "state": {
            "_model_module": "@jupyter-widgets/controls",
            "_model_module_version": "1.5.0",
            "_model_name": "ProgressStyleModel",
            "_view_count": null,
            "_view_module": "@jupyter-widgets/base",
            "_view_module_version": "1.2.0",
            "_view_name": "StyleView",
            "bar_color": null,
            "description_width": ""
          }
        },
        "9bc3bdc3d8d643e588b175f7a89d222f": {
          "model_module": "@jupyter-widgets/base",
          "model_name": "LayoutModel",
          "model_module_version": "1.2.0",
          "state": {
            "_model_module": "@jupyter-widgets/base",
            "_model_module_version": "1.2.0",
            "_model_name": "LayoutModel",
            "_view_count": null,
            "_view_module": "@jupyter-widgets/base",
            "_view_module_version": "1.2.0",
            "_view_name": "LayoutView",
            "align_content": null,
            "align_items": null,
            "align_self": null,
            "border": null,
            "bottom": null,
            "display": null,
            "flex": null,
            "flex_flow": null,
            "grid_area": null,
            "grid_auto_columns": null,
            "grid_auto_flow": null,
            "grid_auto_rows": null,
            "grid_column": null,
            "grid_gap": null,
            "grid_row": null,
            "grid_template_areas": null,
            "grid_template_columns": null,
            "grid_template_rows": null,
            "height": null,
            "justify_content": null,
            "justify_items": null,
            "left": null,
            "margin": null,
            "max_height": null,
            "max_width": null,
            "min_height": null,
            "min_width": null,
            "object_fit": null,
            "object_position": null,
            "order": null,
            "overflow": null,
            "overflow_x": null,
            "overflow_y": null,
            "padding": null,
            "right": null,
            "top": null,
            "visibility": null,
            "width": null
          }
        },
        "a351a69a665a436b9f6903a6e8caa88f": {
          "model_module": "@jupyter-widgets/controls",
          "model_name": "DescriptionStyleModel",
          "model_module_version": "1.5.0",
          "state": {
            "_model_module": "@jupyter-widgets/controls",
            "_model_module_version": "1.5.0",
            "_model_name": "DescriptionStyleModel",
            "_view_count": null,
            "_view_module": "@jupyter-widgets/base",
            "_view_module_version": "1.2.0",
            "_view_name": "StyleView",
            "description_width": ""
          }
        },
        "5f9a1c236b7143e796f4ca958b7eff39": {
          "model_module": "@jupyter-widgets/controls",
          "model_name": "HBoxModel",
          "model_module_version": "1.5.0",
          "state": {
            "_dom_classes": [],
            "_model_module": "@jupyter-widgets/controls",
            "_model_module_version": "1.5.0",
            "_model_name": "HBoxModel",
            "_view_count": null,
            "_view_module": "@jupyter-widgets/controls",
            "_view_module_version": "1.5.0",
            "_view_name": "HBoxView",
            "box_style": "",
            "children": [
              "IPY_MODEL_7711ee9500e843a28a6266003c78107c",
              "IPY_MODEL_4fb80153403149cc8b84cb1161ec0c85",
              "IPY_MODEL_178aad4603da4e6aa3206a79d5fda6b0"
            ],
            "layout": "IPY_MODEL_a01ea36459e9405581cf0830fb65db53"
          }
        },
        "7711ee9500e843a28a6266003c78107c": {
          "model_module": "@jupyter-widgets/controls",
          "model_name": "HTMLModel",
          "model_module_version": "1.5.0",
          "state": {
            "_dom_classes": [],
            "_model_module": "@jupyter-widgets/controls",
            "_model_module_version": "1.5.0",
            "_model_name": "HTMLModel",
            "_view_count": null,
            "_view_module": "@jupyter-widgets/controls",
            "_view_module_version": "1.5.0",
            "_view_name": "HTMLView",
            "description": "",
            "description_tooltip": null,
            "layout": "IPY_MODEL_695f88e47d6045ce93cf0c244329b827",
            "placeholder": "​",
            "style": "IPY_MODEL_252b3c0192604e728948aef96293145d",
            "value": "Epoch 4: 100%"
          }
        },
        "4fb80153403149cc8b84cb1161ec0c85": {
          "model_module": "@jupyter-widgets/controls",
          "model_name": "FloatProgressModel",
          "model_module_version": "1.5.0",
          "state": {
            "_dom_classes": [],
            "_model_module": "@jupyter-widgets/controls",
            "_model_module_version": "1.5.0",
            "_model_name": "FloatProgressModel",
            "_view_count": null,
            "_view_module": "@jupyter-widgets/controls",
            "_view_module_version": "1.5.0",
            "_view_name": "ProgressView",
            "bar_style": "",
            "description": "",
            "description_tooltip": null,
            "layout": "IPY_MODEL_1a6cfa93f9104111b88618aaa907574b",
            "max": 48,
            "min": 0,
            "orientation": "horizontal",
            "style": "IPY_MODEL_174bbfa1b1a54d119becccdc45afa218",
            "value": 48
          }
        },
        "178aad4603da4e6aa3206a79d5fda6b0": {
          "model_module": "@jupyter-widgets/controls",
          "model_name": "HTMLModel",
          "model_module_version": "1.5.0",
          "state": {
            "_dom_classes": [],
            "_model_module": "@jupyter-widgets/controls",
            "_model_module_version": "1.5.0",
            "_model_name": "HTMLModel",
            "_view_count": null,
            "_view_module": "@jupyter-widgets/controls",
            "_view_module_version": "1.5.0",
            "_view_name": "HTMLView",
            "description": "",
            "description_tooltip": null,
            "layout": "IPY_MODEL_f618209597b14461bb5b53f5a47248ca",
            "placeholder": "​",
            "style": "IPY_MODEL_6369d47884d14c6f9df6b36875ce8cba",
            "value": " 48/48 [00:08&lt;00:00,  7.74it/s, training_loss=0.034]"
          }
        },
        "a01ea36459e9405581cf0830fb65db53": {
          "model_module": "@jupyter-widgets/base",
          "model_name": "LayoutModel",
          "model_module_version": "1.2.0",
          "state": {
            "_model_module": "@jupyter-widgets/base",
            "_model_module_version": "1.2.0",
            "_model_name": "LayoutModel",
            "_view_count": null,
            "_view_module": "@jupyter-widgets/base",
            "_view_module_version": "1.2.0",
            "_view_name": "LayoutView",
            "align_content": null,
            "align_items": null,
            "align_self": null,
            "border": null,
            "bottom": null,
            "display": null,
            "flex": null,
            "flex_flow": null,
            "grid_area": null,
            "grid_auto_columns": null,
            "grid_auto_flow": null,
            "grid_auto_rows": null,
            "grid_column": null,
            "grid_gap": null,
            "grid_row": null,
            "grid_template_areas": null,
            "grid_template_columns": null,
            "grid_template_rows": null,
            "height": null,
            "justify_content": null,
            "justify_items": null,
            "left": null,
            "margin": null,
            "max_height": null,
            "max_width": null,
            "min_height": null,
            "min_width": null,
            "object_fit": null,
            "object_position": null,
            "order": null,
            "overflow": null,
            "overflow_x": null,
            "overflow_y": null,
            "padding": null,
            "right": null,
            "top": null,
            "visibility": "hidden",
            "width": null
          }
        },
        "695f88e47d6045ce93cf0c244329b827": {
          "model_module": "@jupyter-widgets/base",
          "model_name": "LayoutModel",
          "model_module_version": "1.2.0",
          "state": {
            "_model_module": "@jupyter-widgets/base",
            "_model_module_version": "1.2.0",
            "_model_name": "LayoutModel",
            "_view_count": null,
            "_view_module": "@jupyter-widgets/base",
            "_view_module_version": "1.2.0",
            "_view_name": "LayoutView",
            "align_content": null,
            "align_items": null,
            "align_self": null,
            "border": null,
            "bottom": null,
            "display": null,
            "flex": null,
            "flex_flow": null,
            "grid_area": null,
            "grid_auto_columns": null,
            "grid_auto_flow": null,
            "grid_auto_rows": null,
            "grid_column": null,
            "grid_gap": null,
            "grid_row": null,
            "grid_template_areas": null,
            "grid_template_columns": null,
            "grid_template_rows": null,
            "height": null,
            "justify_content": null,
            "justify_items": null,
            "left": null,
            "margin": null,
            "max_height": null,
            "max_width": null,
            "min_height": null,
            "min_width": null,
            "object_fit": null,
            "object_position": null,
            "order": null,
            "overflow": null,
            "overflow_x": null,
            "overflow_y": null,
            "padding": null,
            "right": null,
            "top": null,
            "visibility": null,
            "width": null
          }
        },
        "252b3c0192604e728948aef96293145d": {
          "model_module": "@jupyter-widgets/controls",
          "model_name": "DescriptionStyleModel",
          "model_module_version": "1.5.0",
          "state": {
            "_model_module": "@jupyter-widgets/controls",
            "_model_module_version": "1.5.0",
            "_model_name": "DescriptionStyleModel",
            "_view_count": null,
            "_view_module": "@jupyter-widgets/base",
            "_view_module_version": "1.2.0",
            "_view_name": "StyleView",
            "description_width": ""
          }
        },
        "1a6cfa93f9104111b88618aaa907574b": {
          "model_module": "@jupyter-widgets/base",
          "model_name": "LayoutModel",
          "model_module_version": "1.2.0",
          "state": {
            "_model_module": "@jupyter-widgets/base",
            "_model_module_version": "1.2.0",
            "_model_name": "LayoutModel",
            "_view_count": null,
            "_view_module": "@jupyter-widgets/base",
            "_view_module_version": "1.2.0",
            "_view_name": "LayoutView",
            "align_content": null,
            "align_items": null,
            "align_self": null,
            "border": null,
            "bottom": null,
            "display": null,
            "flex": null,
            "flex_flow": null,
            "grid_area": null,
            "grid_auto_columns": null,
            "grid_auto_flow": null,
            "grid_auto_rows": null,
            "grid_column": null,
            "grid_gap": null,
            "grid_row": null,
            "grid_template_areas": null,
            "grid_template_columns": null,
            "grid_template_rows": null,
            "height": null,
            "justify_content": null,
            "justify_items": null,
            "left": null,
            "margin": null,
            "max_height": null,
            "max_width": null,
            "min_height": null,
            "min_width": null,
            "object_fit": null,
            "object_position": null,
            "order": null,
            "overflow": null,
            "overflow_x": null,
            "overflow_y": null,
            "padding": null,
            "right": null,
            "top": null,
            "visibility": null,
            "width": null
          }
        },
        "174bbfa1b1a54d119becccdc45afa218": {
          "model_module": "@jupyter-widgets/controls",
          "model_name": "ProgressStyleModel",
          "model_module_version": "1.5.0",
          "state": {
            "_model_module": "@jupyter-widgets/controls",
            "_model_module_version": "1.5.0",
            "_model_name": "ProgressStyleModel",
            "_view_count": null,
            "_view_module": "@jupyter-widgets/base",
            "_view_module_version": "1.2.0",
            "_view_name": "StyleView",
            "bar_color": null,
            "description_width": ""
          }
        },
        "f618209597b14461bb5b53f5a47248ca": {
          "model_module": "@jupyter-widgets/base",
          "model_name": "LayoutModel",
          "model_module_version": "1.2.0",
          "state": {
            "_model_module": "@jupyter-widgets/base",
            "_model_module_version": "1.2.0",
            "_model_name": "LayoutModel",
            "_view_count": null,
            "_view_module": "@jupyter-widgets/base",
            "_view_module_version": "1.2.0",
            "_view_name": "LayoutView",
            "align_content": null,
            "align_items": null,
            "align_self": null,
            "border": null,
            "bottom": null,
            "display": null,
            "flex": null,
            "flex_flow": null,
            "grid_area": null,
            "grid_auto_columns": null,
            "grid_auto_flow": null,
            "grid_auto_rows": null,
            "grid_column": null,
            "grid_gap": null,
            "grid_row": null,
            "grid_template_areas": null,
            "grid_template_columns": null,
            "grid_template_rows": null,
            "height": null,
            "justify_content": null,
            "justify_items": null,
            "left": null,
            "margin": null,
            "max_height": null,
            "max_width": null,
            "min_height": null,
            "min_width": null,
            "object_fit": null,
            "object_position": null,
            "order": null,
            "overflow": null,
            "overflow_x": null,
            "overflow_y": null,
            "padding": null,
            "right": null,
            "top": null,
            "visibility": null,
            "width": null
          }
        },
        "6369d47884d14c6f9df6b36875ce8cba": {
          "model_module": "@jupyter-widgets/controls",
          "model_name": "DescriptionStyleModel",
          "model_module_version": "1.5.0",
          "state": {
            "_model_module": "@jupyter-widgets/controls",
            "_model_module_version": "1.5.0",
            "_model_name": "DescriptionStyleModel",
            "_view_count": null,
            "_view_module": "@jupyter-widgets/base",
            "_view_module_version": "1.2.0",
            "_view_name": "StyleView",
            "description_width": ""
          }
        },
        "f72d9dfbfcb14041b7d1de89aac8bb2d": {
          "model_module": "@jupyter-widgets/controls",
          "model_name": "HBoxModel",
          "model_module_version": "1.5.0",
          "state": {
            "_dom_classes": [],
            "_model_module": "@jupyter-widgets/controls",
            "_model_module_version": "1.5.0",
            "_model_name": "HBoxModel",
            "_view_count": null,
            "_view_module": "@jupyter-widgets/controls",
            "_view_module_version": "1.5.0",
            "_view_name": "HBoxView",
            "box_style": "",
            "children": [
              "IPY_MODEL_df423e22a5b0439dbd2eb86d1885084e",
              "IPY_MODEL_9ff882c23f1f4cf9ab8c79f6ccfc20e4",
              "IPY_MODEL_a09f46e75318407b846fed78ac1ff3f9"
            ],
            "layout": "IPY_MODEL_4880b414139d445f823b06f5c4ec4bdd"
          }
        },
        "df423e22a5b0439dbd2eb86d1885084e": {
          "model_module": "@jupyter-widgets/controls",
          "model_name": "HTMLModel",
          "model_module_version": "1.5.0",
          "state": {
            "_dom_classes": [],
            "_model_module": "@jupyter-widgets/controls",
            "_model_module_version": "1.5.0",
            "_model_name": "HTMLModel",
            "_view_count": null,
            "_view_module": "@jupyter-widgets/controls",
            "_view_module_version": "1.5.0",
            "_view_name": "HTMLView",
            "description": "",
            "description_tooltip": null,
            "layout": "IPY_MODEL_55f638b6abc842af8583cdb4ad3ac2af",
            "placeholder": "​",
            "style": "IPY_MODEL_b873a1c3fa04470f8e66c2fc456a6c50",
            "value": "Epoch 5: 100%"
          }
        },
        "9ff882c23f1f4cf9ab8c79f6ccfc20e4": {
          "model_module": "@jupyter-widgets/controls",
          "model_name": "FloatProgressModel",
          "model_module_version": "1.5.0",
          "state": {
            "_dom_classes": [],
            "_model_module": "@jupyter-widgets/controls",
            "_model_module_version": "1.5.0",
            "_model_name": "FloatProgressModel",
            "_view_count": null,
            "_view_module": "@jupyter-widgets/controls",
            "_view_module_version": "1.5.0",
            "_view_name": "ProgressView",
            "bar_style": "",
            "description": "",
            "description_tooltip": null,
            "layout": "IPY_MODEL_c28434d84394423ca032f9151b27b65d",
            "max": 48,
            "min": 0,
            "orientation": "horizontal",
            "style": "IPY_MODEL_475ccb1cc5ef42c0b91affa32f665371",
            "value": 48
          }
        },
        "a09f46e75318407b846fed78ac1ff3f9": {
          "model_module": "@jupyter-widgets/controls",
          "model_name": "HTMLModel",
          "model_module_version": "1.5.0",
          "state": {
            "_dom_classes": [],
            "_model_module": "@jupyter-widgets/controls",
            "_model_module_version": "1.5.0",
            "_model_name": "HTMLModel",
            "_view_count": null,
            "_view_module": "@jupyter-widgets/controls",
            "_view_module_version": "1.5.0",
            "_view_name": "HTMLView",
            "description": "",
            "description_tooltip": null,
            "layout": "IPY_MODEL_74069ff955e64adeae58f70e5eb207ec",
            "placeholder": "​",
            "style": "IPY_MODEL_f4f043c461af41c4ba72754d323b80a0",
            "value": " 48/48 [00:06&lt;00:00,  7.54it/s, training_loss=0.019]"
          }
        },
        "4880b414139d445f823b06f5c4ec4bdd": {
          "model_module": "@jupyter-widgets/base",
          "model_name": "LayoutModel",
          "model_module_version": "1.2.0",
          "state": {
            "_model_module": "@jupyter-widgets/base",
            "_model_module_version": "1.2.0",
            "_model_name": "LayoutModel",
            "_view_count": null,
            "_view_module": "@jupyter-widgets/base",
            "_view_module_version": "1.2.0",
            "_view_name": "LayoutView",
            "align_content": null,
            "align_items": null,
            "align_self": null,
            "border": null,
            "bottom": null,
            "display": null,
            "flex": null,
            "flex_flow": null,
            "grid_area": null,
            "grid_auto_columns": null,
            "grid_auto_flow": null,
            "grid_auto_rows": null,
            "grid_column": null,
            "grid_gap": null,
            "grid_row": null,
            "grid_template_areas": null,
            "grid_template_columns": null,
            "grid_template_rows": null,
            "height": null,
            "justify_content": null,
            "justify_items": null,
            "left": null,
            "margin": null,
            "max_height": null,
            "max_width": null,
            "min_height": null,
            "min_width": null,
            "object_fit": null,
            "object_position": null,
            "order": null,
            "overflow": null,
            "overflow_x": null,
            "overflow_y": null,
            "padding": null,
            "right": null,
            "top": null,
            "visibility": "hidden",
            "width": null
          }
        },
        "55f638b6abc842af8583cdb4ad3ac2af": {
          "model_module": "@jupyter-widgets/base",
          "model_name": "LayoutModel",
          "model_module_version": "1.2.0",
          "state": {
            "_model_module": "@jupyter-widgets/base",
            "_model_module_version": "1.2.0",
            "_model_name": "LayoutModel",
            "_view_count": null,
            "_view_module": "@jupyter-widgets/base",
            "_view_module_version": "1.2.0",
            "_view_name": "LayoutView",
            "align_content": null,
            "align_items": null,
            "align_self": null,
            "border": null,
            "bottom": null,
            "display": null,
            "flex": null,
            "flex_flow": null,
            "grid_area": null,
            "grid_auto_columns": null,
            "grid_auto_flow": null,
            "grid_auto_rows": null,
            "grid_column": null,
            "grid_gap": null,
            "grid_row": null,
            "grid_template_areas": null,
            "grid_template_columns": null,
            "grid_template_rows": null,
            "height": null,
            "justify_content": null,
            "justify_items": null,
            "left": null,
            "margin": null,
            "max_height": null,
            "max_width": null,
            "min_height": null,
            "min_width": null,
            "object_fit": null,
            "object_position": null,
            "order": null,
            "overflow": null,
            "overflow_x": null,
            "overflow_y": null,
            "padding": null,
            "right": null,
            "top": null,
            "visibility": null,
            "width": null
          }
        },
        "b873a1c3fa04470f8e66c2fc456a6c50": {
          "model_module": "@jupyter-widgets/controls",
          "model_name": "DescriptionStyleModel",
          "model_module_version": "1.5.0",
          "state": {
            "_model_module": "@jupyter-widgets/controls",
            "_model_module_version": "1.5.0",
            "_model_name": "DescriptionStyleModel",
            "_view_count": null,
            "_view_module": "@jupyter-widgets/base",
            "_view_module_version": "1.2.0",
            "_view_name": "StyleView",
            "description_width": ""
          }
        },
        "c28434d84394423ca032f9151b27b65d": {
          "model_module": "@jupyter-widgets/base",
          "model_name": "LayoutModel",
          "model_module_version": "1.2.0",
          "state": {
            "_model_module": "@jupyter-widgets/base",
            "_model_module_version": "1.2.0",
            "_model_name": "LayoutModel",
            "_view_count": null,
            "_view_module": "@jupyter-widgets/base",
            "_view_module_version": "1.2.0",
            "_view_name": "LayoutView",
            "align_content": null,
            "align_items": null,
            "align_self": null,
            "border": null,
            "bottom": null,
            "display": null,
            "flex": null,
            "flex_flow": null,
            "grid_area": null,
            "grid_auto_columns": null,
            "grid_auto_flow": null,
            "grid_auto_rows": null,
            "grid_column": null,
            "grid_gap": null,
            "grid_row": null,
            "grid_template_areas": null,
            "grid_template_columns": null,
            "grid_template_rows": null,
            "height": null,
            "justify_content": null,
            "justify_items": null,
            "left": null,
            "margin": null,
            "max_height": null,
            "max_width": null,
            "min_height": null,
            "min_width": null,
            "object_fit": null,
            "object_position": null,
            "order": null,
            "overflow": null,
            "overflow_x": null,
            "overflow_y": null,
            "padding": null,
            "right": null,
            "top": null,
            "visibility": null,
            "width": null
          }
        },
        "475ccb1cc5ef42c0b91affa32f665371": {
          "model_module": "@jupyter-widgets/controls",
          "model_name": "ProgressStyleModel",
          "model_module_version": "1.5.0",
          "state": {
            "_model_module": "@jupyter-widgets/controls",
            "_model_module_version": "1.5.0",
            "_model_name": "ProgressStyleModel",
            "_view_count": null,
            "_view_module": "@jupyter-widgets/base",
            "_view_module_version": "1.2.0",
            "_view_name": "StyleView",
            "bar_color": null,
            "description_width": ""
          }
        },
        "74069ff955e64adeae58f70e5eb207ec": {
          "model_module": "@jupyter-widgets/base",
          "model_name": "LayoutModel",
          "model_module_version": "1.2.0",
          "state": {
            "_model_module": "@jupyter-widgets/base",
            "_model_module_version": "1.2.0",
            "_model_name": "LayoutModel",
            "_view_count": null,
            "_view_module": "@jupyter-widgets/base",
            "_view_module_version": "1.2.0",
            "_view_name": "LayoutView",
            "align_content": null,
            "align_items": null,
            "align_self": null,
            "border": null,
            "bottom": null,
            "display": null,
            "flex": null,
            "flex_flow": null,
            "grid_area": null,
            "grid_auto_columns": null,
            "grid_auto_flow": null,
            "grid_auto_rows": null,
            "grid_column": null,
            "grid_gap": null,
            "grid_row": null,
            "grid_template_areas": null,
            "grid_template_columns": null,
            "grid_template_rows": null,
            "height": null,
            "justify_content": null,
            "justify_items": null,
            "left": null,
            "margin": null,
            "max_height": null,
            "max_width": null,
            "min_height": null,
            "min_width": null,
            "object_fit": null,
            "object_position": null,
            "order": null,
            "overflow": null,
            "overflow_x": null,
            "overflow_y": null,
            "padding": null,
            "right": null,
            "top": null,
            "visibility": null,
            "width": null
          }
        },
        "f4f043c461af41c4ba72754d323b80a0": {
          "model_module": "@jupyter-widgets/controls",
          "model_name": "DescriptionStyleModel",
          "model_module_version": "1.5.0",
          "state": {
            "_model_module": "@jupyter-widgets/controls",
            "_model_module_version": "1.5.0",
            "_model_name": "DescriptionStyleModel",
            "_view_count": null,
            "_view_module": "@jupyter-widgets/base",
            "_view_module_version": "1.2.0",
            "_view_name": "StyleView",
            "description_width": ""
          }
        }
      }
    }
  },
  "cells": [
    {
      "cell_type": "code",
      "source": [
        "! pip3 install transformers"
      ],
      "metadata": {
        "colab": {
          "base_uri": "https://localhost:8080/"
        },
        "id": "0dLf-sQxwhxc",
        "outputId": "61215efa-6ae8-4224-f17c-c28cb9a80d3a"
      },
      "execution_count": null,
      "outputs": [
        {
          "output_type": "stream",
          "name": "stdout",
          "text": [
            "Looking in indexes: https://pypi.org/simple, https://us-python.pkg.dev/colab-wheels/public/simple/\n",
            "Requirement already satisfied: transformers in /usr/local/lib/python3.8/dist-packages (4.26.1)\n",
            "Requirement already satisfied: requests in /usr/local/lib/python3.8/dist-packages (from transformers) (2.25.1)\n",
            "Requirement already satisfied: tokenizers!=0.11.3,<0.14,>=0.11.1 in /usr/local/lib/python3.8/dist-packages (from transformers) (0.13.2)\n",
            "Requirement already satisfied: pyyaml>=5.1 in /usr/local/lib/python3.8/dist-packages (from transformers) (6.0)\n",
            "Requirement already satisfied: filelock in /usr/local/lib/python3.8/dist-packages (from transformers) (3.9.0)\n",
            "Requirement already satisfied: huggingface-hub<1.0,>=0.11.0 in /usr/local/lib/python3.8/dist-packages (from transformers) (0.12.1)\n",
            "Requirement already satisfied: numpy>=1.17 in /usr/local/lib/python3.8/dist-packages (from transformers) (1.22.4)\n",
            "Requirement already satisfied: packaging>=20.0 in /usr/local/lib/python3.8/dist-packages (from transformers) (23.0)\n",
            "Requirement already satisfied: regex!=2019.12.17 in /usr/local/lib/python3.8/dist-packages (from transformers) (2022.6.2)\n",
            "Requirement already satisfied: tqdm>=4.27 in /usr/local/lib/python3.8/dist-packages (from transformers) (4.64.1)\n",
            "Requirement already satisfied: typing-extensions>=3.7.4.3 in /usr/local/lib/python3.8/dist-packages (from huggingface-hub<1.0,>=0.11.0->transformers) (4.5.0)\n",
            "Requirement already satisfied: chardet<5,>=3.0.2 in /usr/local/lib/python3.8/dist-packages (from requests->transformers) (4.0.0)\n",
            "Requirement already satisfied: certifi>=2017.4.17 in /usr/local/lib/python3.8/dist-packages (from requests->transformers) (2022.12.7)\n",
            "Requirement already satisfied: idna<3,>=2.5 in /usr/local/lib/python3.8/dist-packages (from requests->transformers) (2.10)\n",
            "Requirement already satisfied: urllib3<1.27,>=1.21.1 in /usr/local/lib/python3.8/dist-packages (from requests->transformers) (1.24.3)\n"
          ]
        }
      ]
    },
    {
      "cell_type": "code",
      "execution_count": null,
      "metadata": {
        "id": "klHdeZ7rafEn"
      },
      "outputs": [],
      "source": [
        "import string\n",
        "import pandas as pd\n",
        "import numpy as np\n",
        "import pickle\n",
        "import matplotlib.pyplot as plt\n",
        "import seaborn as sns\n",
        "import re\n",
        "import copy\n",
        "from tqdm.notebook import tqdm\n",
        "import gc\n",
        "\n",
        "import torch\n",
        "import torch.nn as nn\n",
        "import torch.nn.functional as F\n",
        "from torch import optim\n",
        "from torch.utils.data import Dataset, DataLoader\n",
        "\n",
        "from sklearn.metrics import (\n",
        "    accuracy_score, \n",
        "    f1_score, \n",
        "    classification_report\n",
        ")\n",
        "\n",
        "from transformers import (\n",
        "    AutoTokenizer, \n",
        "    AutoModel,\n",
        "    get_linear_schedule_with_warmup,\n",
        "    BertModel,\n",
        "    BertTokenizer,\n",
        "    BertTokenizerFast\n",
        ")"
      ]
    },
    {
      "cell_type": "code",
      "source": [
        "import json\n",
        "import pandas as pd\n",
        "import numpy as np\n",
        "pd.set_option('max_rows', 99999)\n",
        "pd.set_option('max_colwidth', 400)\n",
        "pd.describe_option('max_colwidth')"
      ],
      "metadata": {
        "colab": {
          "base_uri": "https://localhost:8080/"
        },
        "id": "b04bguovaqsS",
        "outputId": "95c7eeea-ab7c-4be8-f6b8-690778e4f0ed"
      },
      "execution_count": null,
      "outputs": [
        {
          "output_type": "stream",
          "name": "stdout",
          "text": [
            "display.max_colwidth : int or None\n",
            "    The maximum width in characters of a column in the repr of\n",
            "    a pandas data structure. When the column overflows, a \"...\"\n",
            "    placeholder is embedded in the output. A 'None' value means unlimited.\n",
            "    [default: 50] [currently: 400]\n"
          ]
        }
      ]
    },
    {
      "cell_type": "code",
      "source": [
        "df = pd.read_csv('dataset.csv')\n",
        "print(df.shape)  \n",
        "df.head()"
      ],
      "metadata": {
        "colab": {
          "base_uri": "https://localhost:8080/",
          "height": 319
        },
        "id": "fT_qG8T_axXf",
        "outputId": "ef660e56-2e6a-42ae-aec7-344f824435e1"
      },
      "execution_count": null,
      "outputs": [
        {
          "output_type": "stream",
          "name": "stdout",
          "text": [
            "(1097, 4)\n"
          ]
        },
        {
          "output_type": "execute_result",
          "data": {
            "text/plain": [
              "                        _id  \\\n",
              "0  595e60b48fcd022a715f7b7b   \n",
              "1  595e60de8fcd022a715f7b7d   \n",
              "2  595e61448fcd022a715f7b7f   \n",
              "3  595e62748fcd022a715f7b83   \n",
              "4  595e62b28fcd022a715f7b86   \n",
              "\n",
              "                                                                                                                                       tweet_text  \\\n",
              "0                  this airfrance b777-300er has the oldest ifes i\\ve ever seen. it belongs in a museum. the terrible smell isn\\t helping either.   \n",
              "1                                                                                  ???? will miss my connection airfrance https://t.co/2olmtwcxyk   \n",
              "2                                                  airfrance lost luggage in overhead cabin,  email no response,  phone no one answers. pls help.   \n",
              "3  here\\s a new twist on the \\\"all airlines hate musicians\\\" saga. we saw our gear  the plane  amp; yet now airfrance have no clue where it is!!!   \n",
              "4          airfrance so now i might not have 3 pieces of my most important gear 4 the most important dublin show i\\ve ever done. thanks airfrance   \n",
              "\n",
              "  tweet_lang  tweet_sentiment_value  \n",
              "0         en                      0  \n",
              "1         en                      0  \n",
              "2         en                      0  \n",
              "3         en                      0  \n",
              "4         en                      0  "
            ],
            "text/html": [
              "\n",
              "  <div id=\"df-f5b1fd0b-1bf9-4da1-8ddd-e9ed8aa4eaca\">\n",
              "    <div class=\"colab-df-container\">\n",
              "      <div>\n",
              "<style scoped>\n",
              "    .dataframe tbody tr th:only-of-type {\n",
              "        vertical-align: middle;\n",
              "    }\n",
              "\n",
              "    .dataframe tbody tr th {\n",
              "        vertical-align: top;\n",
              "    }\n",
              "\n",
              "    .dataframe thead th {\n",
              "        text-align: right;\n",
              "    }\n",
              "</style>\n",
              "<table border=\"1\" class=\"dataframe\">\n",
              "  <thead>\n",
              "    <tr style=\"text-align: right;\">\n",
              "      <th></th>\n",
              "      <th>_id</th>\n",
              "      <th>tweet_text</th>\n",
              "      <th>tweet_lang</th>\n",
              "      <th>tweet_sentiment_value</th>\n",
              "    </tr>\n",
              "  </thead>\n",
              "  <tbody>\n",
              "    <tr>\n",
              "      <th>0</th>\n",
              "      <td>595e60b48fcd022a715f7b7b</td>\n",
              "      <td>this airfrance b777-300er has the oldest ifes i\\ve ever seen. it belongs in a museum. the terrible smell isn\\t helping either.</td>\n",
              "      <td>en</td>\n",
              "      <td>0</td>\n",
              "    </tr>\n",
              "    <tr>\n",
              "      <th>1</th>\n",
              "      <td>595e60de8fcd022a715f7b7d</td>\n",
              "      <td>???? will miss my connection airfrance https://t.co/2olmtwcxyk</td>\n",
              "      <td>en</td>\n",
              "      <td>0</td>\n",
              "    </tr>\n",
              "    <tr>\n",
              "      <th>2</th>\n",
              "      <td>595e61448fcd022a715f7b7f</td>\n",
              "      <td>airfrance lost luggage in overhead cabin,  email no response,  phone no one answers. pls help.</td>\n",
              "      <td>en</td>\n",
              "      <td>0</td>\n",
              "    </tr>\n",
              "    <tr>\n",
              "      <th>3</th>\n",
              "      <td>595e62748fcd022a715f7b83</td>\n",
              "      <td>here\\s a new twist on the \\\"all airlines hate musicians\\\" saga. we saw our gear  the plane  amp; yet now airfrance have no clue where it is!!!</td>\n",
              "      <td>en</td>\n",
              "      <td>0</td>\n",
              "    </tr>\n",
              "    <tr>\n",
              "      <th>4</th>\n",
              "      <td>595e62b28fcd022a715f7b86</td>\n",
              "      <td>airfrance so now i might not have 3 pieces of my most important gear 4 the most important dublin show i\\ve ever done. thanks airfrance</td>\n",
              "      <td>en</td>\n",
              "      <td>0</td>\n",
              "    </tr>\n",
              "  </tbody>\n",
              "</table>\n",
              "</div>\n",
              "      <button class=\"colab-df-convert\" onclick=\"convertToInteractive('df-f5b1fd0b-1bf9-4da1-8ddd-e9ed8aa4eaca')\"\n",
              "              title=\"Convert this dataframe to an interactive table.\"\n",
              "              style=\"display:none;\">\n",
              "        \n",
              "  <svg xmlns=\"http://www.w3.org/2000/svg\" height=\"24px\"viewBox=\"0 0 24 24\"\n",
              "       width=\"24px\">\n",
              "    <path d=\"M0 0h24v24H0V0z\" fill=\"none\"/>\n",
              "    <path d=\"M18.56 5.44l.94 2.06.94-2.06 2.06-.94-2.06-.94-.94-2.06-.94 2.06-2.06.94zm-11 1L8.5 8.5l.94-2.06 2.06-.94-2.06-.94L8.5 2.5l-.94 2.06-2.06.94zm10 10l.94 2.06.94-2.06 2.06-.94-2.06-.94-.94-2.06-.94 2.06-2.06.94z\"/><path d=\"M17.41 7.96l-1.37-1.37c-.4-.4-.92-.59-1.43-.59-.52 0-1.04.2-1.43.59L10.3 9.45l-7.72 7.72c-.78.78-.78 2.05 0 2.83L4 21.41c.39.39.9.59 1.41.59.51 0 1.02-.2 1.41-.59l7.78-7.78 2.81-2.81c.8-.78.8-2.07 0-2.86zM5.41 20L4 18.59l7.72-7.72 1.47 1.35L5.41 20z\"/>\n",
              "  </svg>\n",
              "      </button>\n",
              "      \n",
              "  <style>\n",
              "    .colab-df-container {\n",
              "      display:flex;\n",
              "      flex-wrap:wrap;\n",
              "      gap: 12px;\n",
              "    }\n",
              "\n",
              "    .colab-df-convert {\n",
              "      background-color: #E8F0FE;\n",
              "      border: none;\n",
              "      border-radius: 50%;\n",
              "      cursor: pointer;\n",
              "      display: none;\n",
              "      fill: #1967D2;\n",
              "      height: 32px;\n",
              "      padding: 0 0 0 0;\n",
              "      width: 32px;\n",
              "    }\n",
              "\n",
              "    .colab-df-convert:hover {\n",
              "      background-color: #E2EBFA;\n",
              "      box-shadow: 0px 1px 2px rgba(60, 64, 67, 0.3), 0px 1px 3px 1px rgba(60, 64, 67, 0.15);\n",
              "      fill: #174EA6;\n",
              "    }\n",
              "\n",
              "    [theme=dark] .colab-df-convert {\n",
              "      background-color: #3B4455;\n",
              "      fill: #D2E3FC;\n",
              "    }\n",
              "\n",
              "    [theme=dark] .colab-df-convert:hover {\n",
              "      background-color: #434B5C;\n",
              "      box-shadow: 0px 1px 3px 1px rgba(0, 0, 0, 0.15);\n",
              "      filter: drop-shadow(0px 1px 2px rgba(0, 0, 0, 0.3));\n",
              "      fill: #FFFFFF;\n",
              "    }\n",
              "  </style>\n",
              "\n",
              "      <script>\n",
              "        const buttonEl =\n",
              "          document.querySelector('#df-f5b1fd0b-1bf9-4da1-8ddd-e9ed8aa4eaca button.colab-df-convert');\n",
              "        buttonEl.style.display =\n",
              "          google.colab.kernel.accessAllowed ? 'block' : 'none';\n",
              "\n",
              "        async function convertToInteractive(key) {\n",
              "          const element = document.querySelector('#df-f5b1fd0b-1bf9-4da1-8ddd-e9ed8aa4eaca');\n",
              "          const dataTable =\n",
              "            await google.colab.kernel.invokeFunction('convertToInteractive',\n",
              "                                                     [key], {});\n",
              "          if (!dataTable) return;\n",
              "\n",
              "          const docLinkHtml = 'Like what you see? Visit the ' +\n",
              "            '<a target=\"_blank\" href=https://colab.research.google.com/notebooks/data_table.ipynb>data table notebook</a>'\n",
              "            + ' to learn more about interactive tables.';\n",
              "          element.innerHTML = '';\n",
              "          dataTable['output_type'] = 'display_data';\n",
              "          await google.colab.output.renderOutput(dataTable, element);\n",
              "          const docLink = document.createElement('div');\n",
              "          docLink.innerHTML = docLinkHtml;\n",
              "          element.appendChild(docLink);\n",
              "        }\n",
              "      </script>\n",
              "    </div>\n",
              "  </div>\n",
              "  "
            ]
          },
          "metadata": {},
          "execution_count": 78
        }
      ]
    },
    {
      "cell_type": "code",
      "source": [
        "#df['tweet_sentiment_value'].value_counts()\n",
        "df.info()"
      ],
      "metadata": {
        "colab": {
          "base_uri": "https://localhost:8080/"
        },
        "id": "7umhVSuJcE7B",
        "outputId": "ab580a95-d90b-4577-e9c5-fdff1842531b"
      },
      "execution_count": null,
      "outputs": [
        {
          "output_type": "stream",
          "name": "stdout",
          "text": [
            "<class 'pandas.core.frame.DataFrame'>\n",
            "RangeIndex: 1097 entries, 0 to 1096\n",
            "Data columns (total 4 columns):\n",
            " #   Column                 Non-Null Count  Dtype \n",
            "---  ------                 --------------  ----- \n",
            " 0   _id                    1097 non-null   object\n",
            " 1   tweet_text             1097 non-null   object\n",
            " 2   tweet_lang             1097 non-null   object\n",
            " 3   tweet_sentiment_value  1097 non-null   int64 \n",
            "dtypes: int64(1), object(3)\n",
            "memory usage: 34.4+ KB\n"
          ]
        }
      ]
    },
    {
      "cell_type": "markdown",
      "source": [
        "No null values found in dataset."
      ],
      "metadata": {
        "id": "4HAYGlEvfWbx"
      }
    },
    {
      "cell_type": "code",
      "source": [
        "df.columns"
      ],
      "metadata": {
        "colab": {
          "base_uri": "https://localhost:8080/"
        },
        "id": "rslhjuHIdzSU",
        "outputId": "2ed4c725-6701-4163-bd57-ee05e4385978"
      },
      "execution_count": null,
      "outputs": [
        {
          "output_type": "execute_result",
          "data": {
            "text/plain": [
              "Index(['_id', 'tweet_text', 'tweet_lang', 'tweet_sentiment_value'], dtype='object')"
            ]
          },
          "metadata": {},
          "execution_count": 80
        }
      ]
    },
    {
      "cell_type": "code",
      "source": [
        "val_count = df['tweet_sentiment_value'].value_counts()\n",
        "print(val_count)"
      ],
      "metadata": {
        "colab": {
          "base_uri": "https://localhost:8080/"
        },
        "id": "qByuJXsTeP-K",
        "outputId": "c6a7b16d-817d-4398-b8d4-1c4eeec85427"
      },
      "execution_count": null,
      "outputs": [
        {
          "output_type": "stream",
          "name": "stdout",
          "text": [
            "1    502\n",
            "0    406\n",
            "2    189\n",
            "Name: tweet_sentiment_value, dtype: int64\n"
          ]
        }
      ]
    },
    {
      "cell_type": "code",
      "source": [
        "plt.figure(figsize=(8,4))\n",
        "plt.bar(val_count.index, val_count.values)\n",
        "plt.title(\"Data Distribution\")"
      ],
      "metadata": {
        "colab": {
          "base_uri": "https://localhost:8080/",
          "height": 298
        },
        "id": "NBziz8O_fq36",
        "outputId": "635a0473-26fe-4006-d2ba-60e8ba4988c6"
      },
      "execution_count": null,
      "outputs": [
        {
          "output_type": "execute_result",
          "data": {
            "text/plain": [
              "Text(0.5, 1.0, 'Data Distribution')"
            ]
          },
          "metadata": {},
          "execution_count": 82
        },
        {
          "output_type": "display_data",
          "data": {
            "text/plain": [
              "<Figure size 576x288 with 1 Axes>"
            ],
            "image/png": "[encoded data removed]"
          },
          "metadata": {
            "needs_background": "light"
          }
        }
      ]
    },
    {
      "cell_type": "markdown",
      "source": [
        "# **Data Cleaning**"
      ],
      "metadata": {
        "id": "2X_iS9lzd7uo"
      }
    },
    {
      "cell_type": "code",
      "source": [
        "# Remove HTML tags\n",
        "df['tweet_text'] = df['tweet_text'].str.replace('<[^<]+?>', '')\n",
        "\n",
        "# Remove punctuation and special characters\n",
        "df['tweet_text'] = df['tweet_text'].str.replace('[^\\w\\s]','')"
      ],
      "metadata": {
        "colab": {
          "base_uri": "https://localhost:8080/"
        },
        "id": "Zc80pv0rczQm",
        "outputId": "daf3d815-45ba-4f4e-acb1-3de8df86b3e2"
      },
      "execution_count": null,
      "outputs": [
        {
          "output_type": "stream",
          "name": "stderr",
          "text": [
            "<ipython-input-83-7270ab2ca4bc>:2: FutureWarning: The default value of regex will change from True to False in a future version.\n",
            "  df['tweet_text'] = df['tweet_text'].str.replace('<[^<]+?>', '')\n",
            "<ipython-input-83-7270ab2ca4bc>:5: FutureWarning: The default value of regex will change from True to False in a future version.\n",
            "  df['tweet_text'] = df['tweet_text'].str.replace('[^\\w\\s]','')\n"
          ]
        }
      ]
    },
    {
      "cell_type": "code",
      "source": [
        "df.head()"
      ],
      "metadata": {
        "colab": {
          "base_uri": "https://localhost:8080/",
          "height": 302
        },
        "id": "vuzH3PPHpKGC",
        "outputId": "f093f111-95fc-47d6-fb2b-dc09293bbfaa"
      },
      "execution_count": null,
      "outputs": [
        {
          "output_type": "execute_result",
          "data": {
            "text/plain": [
              "                        _id  \\\n",
              "0  595e60b48fcd022a715f7b7b   \n",
              "1  595e60de8fcd022a715f7b7d   \n",
              "2  595e61448fcd022a715f7b7f   \n",
              "3  595e62748fcd022a715f7b83   \n",
              "4  595e62b28fcd022a715f7b86   \n",
              "\n",
              "                                                                                                                             tweet_text  \\\n",
              "0              this airfrance b777300er has the oldest ifes ive ever seen it belongs in a museum the terrible smell isnt helping either   \n",
              "1                                                                                  will miss my connection airfrance httpstco2olmtwcxyk   \n",
              "2                                            airfrance lost luggage in overhead cabin  email no response  phone no one answers pls help   \n",
              "3  heres a new twist on the all airlines hate musicians saga we saw our gear  the plane  amp yet now airfrance have no clue where it is   \n",
              "4  airfrance so now i might not have 3 pieces of my most important gear 4 the most important dublin show ive ever done thanks airfrance   \n",
              "\n",
              "  tweet_lang  tweet_sentiment_value  \n",
              "0         en                      0  \n",
              "1         en                      0  \n",
              "2         en                      0  \n",
              "3         en                      0  \n",
              "4         en                      0  "
            ],
            "text/html": [
              "\n",
              "  <div id=\"df-ba065b96-5e7e-483d-a8d6-bafaa9ada9ed\">\n",
              "    <div class=\"colab-df-container\">\n",
              "      <div>\n",
              "<style scoped>\n",
              "    .dataframe tbody tr th:only-of-type {\n",
              "        vertical-align: middle;\n",
              "    }\n",
              "\n",
              "    .dataframe tbody tr th {\n",
              "        vertical-align: top;\n",
              "    }\n",
              "\n",
              "    .dataframe thead th {\n",
              "        text-align: right;\n",
              "    }\n",
              "</style>\n",
              "<table border=\"1\" class=\"dataframe\">\n",
              "  <thead>\n",
              "    <tr style=\"text-align: right;\">\n",
              "      <th></th>\n",
              "      <th>_id</th>\n",
              "      <th>tweet_text</th>\n",
              "      <th>tweet_lang</th>\n",
              "      <th>tweet_sentiment_value</th>\n",
              "    </tr>\n",
              "  </thead>\n",
              "  <tbody>\n",
              "    <tr>\n",
              "      <th>0</th>\n",
              "      <td>595e60b48fcd022a715f7b7b</td>\n",
              "      <td>this airfrance b777300er has the oldest ifes ive ever seen it belongs in a museum the terrible smell isnt helping either</td>\n",
              "      <td>en</td>\n",
              "      <td>0</td>\n",
              "    </tr>\n",
              "    <tr>\n",
              "      <th>1</th>\n",
              "      <td>595e60de8fcd022a715f7b7d</td>\n",
              "      <td>will miss my connection airfrance httpstco2olmtwcxyk</td>\n",
              "      <td>en</td>\n",
              "      <td>0</td>\n",
              "    </tr>\n",
              "    <tr>\n",
              "      <th>2</th>\n",
              "      <td>595e61448fcd022a715f7b7f</td>\n",
              "      <td>airfrance lost luggage in overhead cabin  email no response  phone no one answers pls help</td>\n",
              "      <td>en</td>\n",
              "      <td>0</td>\n",
              "    </tr>\n",
              "    <tr>\n",
              "      <th>3</th>\n",
              "      <td>595e62748fcd022a715f7b83</td>\n",
              "      <td>heres a new twist on the all airlines hate musicians saga we saw our gear  the plane  amp yet now airfrance have no clue where it is</td>\n",
              "      <td>en</td>\n",
              "      <td>0</td>\n",
              "    </tr>\n",
              "    <tr>\n",
              "      <th>4</th>\n",
              "      <td>595e62b28fcd022a715f7b86</td>\n",
              "      <td>airfrance so now i might not have 3 pieces of my most important gear 4 the most important dublin show ive ever done thanks airfrance</td>\n",
              "      <td>en</td>\n",
              "      <td>0</td>\n",
              "    </tr>\n",
              "  </tbody>\n",
              "</table>\n",
              "</div>\n",
              "      <button class=\"colab-df-convert\" onclick=\"convertToInteractive('df-ba065b96-5e7e-483d-a8d6-bafaa9ada9ed')\"\n",
              "              title=\"Convert this dataframe to an interactive table.\"\n",
              "              style=\"display:none;\">\n",
              "        \n",
              "  <svg xmlns=\"http://www.w3.org/2000/svg\" height=\"24px\"viewBox=\"0 0 24 24\"\n",
              "       width=\"24px\">\n",
              "    <path d=\"M0 0h24v24H0V0z\" fill=\"none\"/>\n",
              "    <path d=\"M18.56 5.44l.94 2.06.94-2.06 2.06-.94-2.06-.94-.94-2.06-.94 2.06-2.06.94zm-11 1L8.5 8.5l.94-2.06 2.06-.94-2.06-.94L8.5 2.5l-.94 2.06-2.06.94zm10 10l.94 2.06.94-2.06 2.06-.94-2.06-.94-.94-2.06-.94 2.06-2.06.94z\"/><path d=\"M17.41 7.96l-1.37-1.37c-.4-.4-.92-.59-1.43-.59-.52 0-1.04.2-1.43.59L10.3 9.45l-7.72 7.72c-.78.78-.78 2.05 0 2.83L4 21.41c.39.39.9.59 1.41.59.51 0 1.02-.2 1.41-.59l7.78-7.78 2.81-2.81c.8-.78.8-2.07 0-2.86zM5.41 20L4 18.59l7.72-7.72 1.47 1.35L5.41 20z\"/>\n",
              "  </svg>\n",
              "      </button>\n",
              "      \n",
              "  <style>\n",
              "    .colab-df-container {\n",
              "      display:flex;\n",
              "      flex-wrap:wrap;\n",
              "      gap: 12px;\n",
              "    }\n",
              "\n",
              "    .colab-df-convert {\n",
              "      background-color: #E8F0FE;\n",
              "      border: none;\n",
              "      border-radius: 50%;\n",
              "      cursor: pointer;\n",
              "      display: none;\n",
              "      fill: #1967D2;\n",
              "      height: 32px;\n",
              "      padding: 0 0 0 0;\n",
              "      width: 32px;\n",
              "    }\n",
              "\n",
              "    .colab-df-convert:hover {\n",
              "      background-color: #E2EBFA;\n",
              "      box-shadow: 0px 1px 2px rgba(60, 64, 67, 0.3), 0px 1px 3px 1px rgba(60, 64, 67, 0.15);\n",
              "      fill: #174EA6;\n",
              "    }\n",
              "\n",
              "    [theme=dark] .colab-df-convert {\n",
              "      background-color: #3B4455;\n",
              "      fill: #D2E3FC;\n",
              "    }\n",
              "\n",
              "    [theme=dark] .colab-df-convert:hover {\n",
              "      background-color: #434B5C;\n",
              "      box-shadow: 0px 1px 3px 1px rgba(0, 0, 0, 0.15);\n",
              "      filter: drop-shadow(0px 1px 2px rgba(0, 0, 0, 0.3));\n",
              "      fill: #FFFFFF;\n",
              "    }\n",
              "  </style>\n",
              "\n",
              "      <script>\n",
              "        const buttonEl =\n",
              "          document.querySelector('#df-ba065b96-5e7e-483d-a8d6-bafaa9ada9ed button.colab-df-convert');\n",
              "        buttonEl.style.display =\n",
              "          google.colab.kernel.accessAllowed ? 'block' : 'none';\n",
              "\n",
              "        async function convertToInteractive(key) {\n",
              "          const element = document.querySelector('#df-ba065b96-5e7e-483d-a8d6-bafaa9ada9ed');\n",
              "          const dataTable =\n",
              "            await google.colab.kernel.invokeFunction('convertToInteractive',\n",
              "                                                     [key], {});\n",
              "          if (!dataTable) return;\n",
              "\n",
              "          const docLinkHtml = 'Like what you see? Visit the ' +\n",
              "            '<a target=\"_blank\" href=https://colab.research.google.com/notebooks/data_table.ipynb>data table notebook</a>'\n",
              "            + ' to learn more about interactive tables.';\n",
              "          element.innerHTML = '';\n",
              "          dataTable['output_type'] = 'display_data';\n",
              "          await google.colab.output.renderOutput(dataTable, element);\n",
              "          const docLink = document.createElement('div');\n",
              "          docLink.innerHTML = docLinkHtml;\n",
              "          element.appendChild(docLink);\n",
              "        }\n",
              "      </script>\n",
              "    </div>\n",
              "  </div>\n",
              "  "
            ]
          },
          "metadata": {},
          "execution_count": 84
        }
      ]
    },
    {
      "cell_type": "markdown",
      "source": [
        "# **Preparing training and testing data**"
      ],
      "metadata": {
        "id": "q-07EHpjsi_T"
      }
    },
    {
      "cell_type": "code",
      "source": [
        "#Shuffling the dataframe\n",
        "df = df.sample(frac=1).reset_index(drop=True)"
      ],
      "metadata": {
        "id": "HGj8qzLPikwu"
      },
      "execution_count": null,
      "outputs": []
    },
    {
      "cell_type": "code",
      "source": [
        "#split the subset by sentiment value to create new train, val and test splits\n",
        "import collections\n",
        "by_rating = collections.defaultdict(list)\n",
        "for _,row in df.iterrows():\n",
        "  by_rating[row.tweet_sentiment_value].append(row.to_dict())"
      ],
      "metadata": {
        "id": "du1ldJBeiolD"
      },
      "execution_count": null,
      "outputs": []
    },
    {
      "cell_type": "code",
      "source": [
        "#create split data\n",
        "seed =1021\n",
        "final_list = []\n",
        "np.random.seed(seed)\n",
        "train_proportion = 0.7\n",
        "val_proportion = 0.2\n",
        "test_proportion = 0.1\n",
        "\n",
        "for _, item_list in sorted(by_rating.items()):\n",
        "  np.random.shuffle(item_list)\n",
        "\n",
        "  n_total = len(item_list)\n",
        "  n_train = int(train_proportion * n_total)\n",
        "  n_val = int(val_proportion * n_total)\n",
        "  n_test = int(test_proportion * n_total)\n",
        "\n",
        "  #give data points  split attribute\n",
        "  for item in item_list[:n_train]:\n",
        "    item['split'] = 'train'\n",
        "\n",
        "  for item in item_list[n_train:n_train+n_val]:\n",
        "    item['split'] = 'val'\n",
        "\n",
        "  for item in item_list[n_train+n_val:n_train+n_val+n_test]:\n",
        "   item['split'] = 'test'\n",
        "\n",
        "  final_list.extend(item_list)\n",
        "\n",
        "df_new = pd.DataFrame(final_list)\n",
        "     \n"
      ],
      "metadata": {
        "id": "uD8kj831pLqD"
      },
      "execution_count": null,
      "outputs": []
    },
    {
      "cell_type": "code",
      "source": [
        "df_new.head()"
      ],
      "metadata": {
        "colab": {
          "base_uri": "https://localhost:8080/",
          "height": 319
        },
        "id": "IuN2tMgWqlkF",
        "outputId": "8888cbd4-4e21-48b6-8dd4-7ab6257d772b"
      },
      "execution_count": null,
      "outputs": [
        {
          "output_type": "execute_result",
          "data": {
            "text/plain": [
              "                        _id  \\\n",
              "0  5962678f4fe31f4f52a01f4d   \n",
              "1  59604fc2745dc32c7a70a973   \n",
              "2  595e67078fcd022a715f7bb1   \n",
              "3  595f7e6c745dc32c7a70a797   \n",
              "4  59646a3f4fe31f4f52a023fc   \n",
              "\n",
              "                                                                                                                            tweet_text  \\\n",
              "0  delta whats going on lax nothing but prbsbad communication among staffresultlost luggage with no trace on rerouted flight airfrance   \n",
              "1         jfkairport airfrance update 124 mins still no gate over 25 of our flight time sitting on the ground after httpstcoocyhkcpexh   \n",
              "2  thecollinsshow airfrance i dont believe they deal in the business of making sure their customers are properly se httpstcolcmpqwpxbg   \n",
              "3    airfrance this is awful 212 hours in the security line and at least 40 mins to go flight 32 to ny will have no httpstcogl9ol6elmn   \n",
              "4                                    airfrance  worst lost baggage service ever  rude agents total disregard for customers dontflythem   \n",
              "\n",
              "  tweet_lang  tweet_sentiment_value  split  \n",
              "0         en                      0  train  \n",
              "1         en                      0  train  \n",
              "2         en                      0  train  \n",
              "3         en                      0  train  \n",
              "4         en                      0  train  "
            ],
            "text/html": [
              "\n",
              "  <div id=\"df-1108cb49-7c29-4902-90dd-c63bda21e22f\">\n",
              "    <div class=\"colab-df-container\">\n",
              "      <div>\n",
              "<style scoped>\n",
              "    .dataframe tbody tr th:only-of-type {\n",
              "        vertical-align: middle;\n",
              "    }\n",
              "\n",
              "    .dataframe tbody tr th {\n",
              "        vertical-align: top;\n",
              "    }\n",
              "\n",
              "    .dataframe thead th {\n",
              "        text-align: right;\n",
              "    }\n",
              "</style>\n",
              "<table border=\"1\" class=\"dataframe\">\n",
              "  <thead>\n",
              "    <tr style=\"text-align: right;\">\n",
              "      <th></th>\n",
              "      <th>_id</th>\n",
              "      <th>tweet_text</th>\n",
              "      <th>tweet_lang</th>\n",
              "      <th>tweet_sentiment_value</th>\n",
              "      <th>split</th>\n",
              "    </tr>\n",
              "  </thead>\n",
              "  <tbody>\n",
              "    <tr>\n",
              "      <th>0</th>\n",
              "      <td>5962678f4fe31f4f52a01f4d</td>\n",
              "      <td>delta whats going on lax nothing but prbsbad communication among staffresultlost luggage with no trace on rerouted flight airfrance</td>\n",
              "      <td>en</td>\n",
              "      <td>0</td>\n",
              "      <td>train</td>\n",
              "    </tr>\n",
              "    <tr>\n",
              "      <th>1</th>\n",
              "      <td>59604fc2745dc32c7a70a973</td>\n",
              "      <td>jfkairport airfrance update 124 mins still no gate over 25 of our flight time sitting on the ground after httpstcoocyhkcpexh</td>\n",
              "      <td>en</td>\n",
              "      <td>0</td>\n",
              "      <td>train</td>\n",
              "    </tr>\n",
              "    <tr>\n",
              "      <th>2</th>\n",
              "      <td>595e67078fcd022a715f7bb1</td>\n",
              "      <td>thecollinsshow airfrance i dont believe they deal in the business of making sure their customers are properly se httpstcolcmpqwpxbg</td>\n",
              "      <td>en</td>\n",
              "      <td>0</td>\n",
              "      <td>train</td>\n",
              "    </tr>\n",
              "    <tr>\n",
              "      <th>3</th>\n",
              "      <td>595f7e6c745dc32c7a70a797</td>\n",
              "      <td>airfrance this is awful 212 hours in the security line and at least 40 mins to go flight 32 to ny will have no httpstcogl9ol6elmn</td>\n",
              "      <td>en</td>\n",
              "      <td>0</td>\n",
              "      <td>train</td>\n",
              "    </tr>\n",
              "    <tr>\n",
              "      <th>4</th>\n",
              "      <td>59646a3f4fe31f4f52a023fc</td>\n",
              "      <td>airfrance  worst lost baggage service ever  rude agents total disregard for customers dontflythem</td>\n",
              "      <td>en</td>\n",
              "      <td>0</td>\n",
              "      <td>train</td>\n",
              "    </tr>\n",
              "  </tbody>\n",
              "</table>\n",
              "</div>\n",
              "      <button class=\"colab-df-convert\" onclick=\"convertToInteractive('df-1108cb49-7c29-4902-90dd-c63bda21e22f')\"\n",
              "              title=\"Convert this dataframe to an interactive table.\"\n",
              "              style=\"display:none;\">\n",
              "        \n",
              "  <svg xmlns=\"http://www.w3.org/2000/svg\" height=\"24px\"viewBox=\"0 0 24 24\"\n",
              "       width=\"24px\">\n",
              "    <path d=\"M0 0h24v24H0V0z\" fill=\"none\"/>\n",
              "    <path d=\"M18.56 5.44l.94 2.06.94-2.06 2.06-.94-2.06-.94-.94-2.06-.94 2.06-2.06.94zm-11 1L8.5 8.5l.94-2.06 2.06-.94-2.06-.94L8.5 2.5l-.94 2.06-2.06.94zm10 10l.94 2.06.94-2.06 2.06-.94-2.06-.94-.94-2.06-.94 2.06-2.06.94z\"/><path d=\"M17.41 7.96l-1.37-1.37c-.4-.4-.92-.59-1.43-.59-.52 0-1.04.2-1.43.59L10.3 9.45l-7.72 7.72c-.78.78-.78 2.05 0 2.83L4 21.41c.39.39.9.59 1.41.59.51 0 1.02-.2 1.41-.59l7.78-7.78 2.81-2.81c.8-.78.8-2.07 0-2.86zM5.41 20L4 18.59l7.72-7.72 1.47 1.35L5.41 20z\"/>\n",
              "  </svg>\n",
              "      </button>\n",
              "      \n",
              "  <style>\n",
              "    .colab-df-container {\n",
              "      display:flex;\n",
              "      flex-wrap:wrap;\n",
              "      gap: 12px;\n",
              "    }\n",
              "\n",
              "    .colab-df-convert {\n",
              "      background-color: #E8F0FE;\n",
              "      border: none;\n",
              "      border-radius: 50%;\n",
              "      cursor: pointer;\n",
              "      display: none;\n",
              "      fill: #1967D2;\n",
              "      height: 32px;\n",
              "      padding: 0 0 0 0;\n",
              "      width: 32px;\n",
              "    }\n",
              "\n",
              "    .colab-df-convert:hover {\n",
              "      background-color: #E2EBFA;\n",
              "      box-shadow: 0px 1px 2px rgba(60, 64, 67, 0.3), 0px 1px 3px 1px rgba(60, 64, 67, 0.15);\n",
              "      fill: #174EA6;\n",
              "    }\n",
              "\n",
              "    [theme=dark] .colab-df-convert {\n",
              "      background-color: #3B4455;\n",
              "      fill: #D2E3FC;\n",
              "    }\n",
              "\n",
              "    [theme=dark] .colab-df-convert:hover {\n",
              "      background-color: #434B5C;\n",
              "      box-shadow: 0px 1px 3px 1px rgba(0, 0, 0, 0.15);\n",
              "      filter: drop-shadow(0px 1px 2px rgba(0, 0, 0, 0.3));\n",
              "      fill: #FFFFFF;\n",
              "    }\n",
              "  </style>\n",
              "\n",
              "      <script>\n",
              "        const buttonEl =\n",
              "          document.querySelector('#df-1108cb49-7c29-4902-90dd-c63bda21e22f button.colab-df-convert');\n",
              "        buttonEl.style.display =\n",
              "          google.colab.kernel.accessAllowed ? 'block' : 'none';\n",
              "\n",
              "        async function convertToInteractive(key) {\n",
              "          const element = document.querySelector('#df-1108cb49-7c29-4902-90dd-c63bda21e22f');\n",
              "          const dataTable =\n",
              "            await google.colab.kernel.invokeFunction('convertToInteractive',\n",
              "                                                     [key], {});\n",
              "          if (!dataTable) return;\n",
              "\n",
              "          const docLinkHtml = 'Like what you see? Visit the ' +\n",
              "            '<a target=\"_blank\" href=https://colab.research.google.com/notebooks/data_table.ipynb>data table notebook</a>'\n",
              "            + ' to learn more about interactive tables.';\n",
              "          element.innerHTML = '';\n",
              "          dataTable['output_type'] = 'display_data';\n",
              "          await google.colab.output.renderOutput(dataTable, element);\n",
              "          const docLink = document.createElement('div');\n",
              "          docLink.innerHTML = docLinkHtml;\n",
              "          element.appendChild(docLink);\n",
              "        }\n",
              "      </script>\n",
              "    </div>\n",
              "  </div>\n",
              "  "
            ]
          },
          "metadata": {},
          "execution_count": 88
        }
      ]
    },
    {
      "cell_type": "code",
      "source": [
        "df_new.groupby(['tweet_sentiment_value','split']).size().unstack(level=1)  \n",
        "a=df_new.groupby(['tweet_sentiment_value','split']).size().unstack(level=1)  \n",
        "a.plot(kind='bar')"
      ],
      "metadata": {
        "colab": {
          "base_uri": "https://localhost:8080/",
          "height": 294
        },
        "id": "Xbc7DjyvqmqZ",
        "outputId": "6148e749-5f2b-4ad3-cb15-7472a5660da1"
      },
      "execution_count": null,
      "outputs": [
        {
          "output_type": "execute_result",
          "data": {
            "text/plain": [
              "<AxesSubplot:xlabel='tweet_sentiment_value'>"
            ]
          },
          "metadata": {},
          "execution_count": 89
        },
        {
          "output_type": "display_data",
          "data": {
            "text/plain": [
              "<Figure size 432x288 with 1 Axes>"
            ],
            "image/png": "[encoded data removed]"
          },
          "metadata": {
            "needs_background": "light"
          }
        }
      ]
    },
    {
      "cell_type": "code",
      "source": [
        "df_new.groupby(['tweet_sentiment_value','split']).size()"
      ],
      "metadata": {
        "colab": {
          "base_uri": "https://localhost:8080/"
        },
        "id": "44Ii9L20sJH8",
        "outputId": "5cd1506d-2ca7-47ce-b460-a4335ead6582"
      },
      "execution_count": null,
      "outputs": [
        {
          "output_type": "execute_result",
          "data": {
            "text/plain": [
              "tweet_sentiment_value  split\n",
              "0                      test      40\n",
              "                       train    284\n",
              "                       val       81\n",
              "1                      test      50\n",
              "                       train    351\n",
              "                       val      100\n",
              "2                      test      18\n",
              "                       train    132\n",
              "                       val       37\n",
              "dtype: int64"
            ]
          },
          "metadata": {},
          "execution_count": 90
        }
      ]
    },
    {
      "cell_type": "code",
      "source": [
        "df_train = df_new[df_new.split=='train']\n",
        "df_val = df_new[df_new.split=='val']\n",
        "df_test= df_new[df_new.split=='test']\n",
        "\n",
        "print(df_train.shape)\n",
        "print(df_val.shape)\n",
        "print(df_test.shape)"
      ],
      "metadata": {
        "colab": {
          "base_uri": "https://localhost:8080/"
        },
        "id": "rkheNZ31sSCT",
        "outputId": "2fa36f50-4906-486e-c1cf-0cb852fa465d"
      },
      "execution_count": null,
      "outputs": [
        {
          "output_type": "stream",
          "name": "stdout",
          "text": [
            "(767, 5)\n",
            "(218, 5)\n",
            "(108, 5)\n"
          ]
        }
      ]
    },
    {
      "cell_type": "markdown",
      "source": [
        "Shuffling datasets"
      ],
      "metadata": {
        "id": "YfR0N0_xvcEu"
      }
    },
    {
      "cell_type": "code",
      "source": [
        "df_train = df_train.sample(frac=1).reset_index(drop=True)\n",
        "df_val = df_val.sample(frac=1).reset_index(drop=True)\n",
        "df_test = df_test.sample(frac=1).reset_index(drop=True)"
      ],
      "metadata": {
        "id": "n9GlgiLcveH2"
      },
      "execution_count": null,
      "outputs": []
    },
    {
      "cell_type": "code",
      "source": [
        "#Getting texts and labels\n",
        "sentences_train = df_train.tweet_text.values\n",
        "labels_train = df_train.tweet_sentiment_value.values\n",
        "\n",
        "sentences_valid = df_val.tweet_text.values\n",
        "labels_valid = df_val.tweet_sentiment_value.values\n",
        "\n",
        "sentences_test = df_test.tweet_text.values\n",
        "labels_test = df_test.tweet_sentiment_value.values"
      ],
      "metadata": {
        "id": "NsD6BnRdvf4r"
      },
      "execution_count": null,
      "outputs": []
    },
    {
      "cell_type": "code",
      "source": [
        "#Tokenization using BERT Tokeniser\n",
        "tokenizer = BertTokenizer.from_pretrained('bert-base-uncased', \n",
        "                                          do_lower_case=True)"
      ],
      "metadata": {
        "id": "x2MWR5Tew4bg"
      },
      "execution_count": null,
      "outputs": []
    },
    {
      "cell_type": "code",
      "source": [
        "from tensorflow.keras.preprocessing.sequence import pad_sequences\n",
        "def create_input_ids_attention_maks(sentences, max_len):\n",
        "  input_ids = []\n",
        "\n",
        "  # For every sentence...\n",
        "  for sent in sentences:\n",
        "      # `encode` will:\n",
        "      #   (1) Tokenize the sentence.\n",
        "      #   (2) Prepend the `[CLS]` token to the start.\n",
        "      #   (3) Append the `[SEP]` token to the end.\n",
        "      #   (4) Map tokens to their IDs.\n",
        "      encoded_sent = tokenizer.encode(\n",
        "                          sent,                      \n",
        "                          add_special_tokens = True,\n",
        "                          max_length = max_len,         \n",
        "                          truncation=True\n",
        "                          \n",
        "                    )\n",
        "      \n",
        "      # Add the encoded sentence to the list.\n",
        "      input_ids.append(encoded_sent)\n",
        "\n",
        "  \n",
        "  # pad the sequences\n",
        "  input_ids = pad_sequences(input_ids, maxlen=max_len, dtype=\"long\", \n",
        "                            value=0, truncating=\"post\", padding=\"post\")\n",
        "  \n",
        "\n",
        "  # Create attention masks\n",
        "  attention_masks = []\n",
        "\n",
        "  for sent in input_ids:\n",
        "      \n",
        "      # Create the attention mask.\n",
        "      #   - If a token ID is 0, then it's padding, set the mask to 0.\n",
        "      #   - If a token ID is > 0, then it's a real token, set the mask to 1.\n",
        "      att_mask = [int(token_id > 0) for token_id in sent]\n",
        "      \n",
        "      attention_masks.append(att_mask)\n",
        "\n",
        "  return [input_ids, attention_masks]\n",
        "     "
      ],
      "metadata": {
        "id": "BPoDtcKpv3z3"
      },
      "execution_count": null,
      "outputs": []
    },
    {
      "cell_type": "code",
      "source": [
        "input_ids_train, attention_masks_train = create_input_ids_attention_maks(sentences_train, 30)\n",
        "input_ids_valid, attention_masks_valid = create_input_ids_attention_maks(sentences_valid, 30)\n",
        "input_ids_test, attention_masks_test = create_input_ids_attention_maks(sentences_test, 30)"
      ],
      "metadata": {
        "id": "0nUTAxYfxT9e"
      },
      "execution_count": null,
      "outputs": []
    },
    {
      "cell_type": "code",
      "source": [
        "print(' Original: ', sentences_train[0])\n",
        "\n",
        "# Print the sentence split into tokens.\n",
        "print('Tokenized: ', tokenizer.tokenize(sentences_train[0]))\n",
        "\n",
        "# Print the sentence mapped to token ids.\n",
        "print('Token IDs: ', tokenizer.convert_tokens_to_ids(tokenizer.tokenize(sentences_train[0])))"
      ],
      "metadata": {
        "colab": {
          "base_uri": "https://localhost:8080/"
        },
        "id": "8cHBbd4213ud",
        "outputId": "10ee43c7-b425-4843-d770-df4d4b3b3af1"
      },
      "execution_count": null,
      "outputs": [
        {
          "output_type": "stream",
          "name": "stdout",
          "text": [
            " Original:  on 26th april 120 monkeys were shipped by air france over 10000 miles from mauritius to the us httpstcom8ipldpivt\n",
            "Tokenized:  ['on', '26th', 'april', '120', 'monkeys', 'were', 'shipped', 'by', 'air', 'france', 'over', '1000', '##0', 'miles', 'from', 'mauritius', 'to', 'the', 'us', 'https', '##tc', '##om', '##8', '##ip', '##ld', '##pi', '##v', '##t']\n",
            "Token IDs:  [2006, 14935, 2258, 6036, 17059, 2020, 12057, 2011, 2250, 2605, 2058, 6694, 2692, 2661, 2013, 18004, 2000, 1996, 2149, 16770, 13535, 5358, 2620, 11514, 6392, 8197, 2615, 2102]\n"
          ]
        }
      ]
    },
    {
      "cell_type": "code",
      "source": [
        "input_ids_train.shape"
      ],
      "metadata": {
        "colab": {
          "base_uri": "https://localhost:8080/"
        },
        "id": "fE8imlJexW2v",
        "outputId": "35647396-6f01-4368-cc91-4929cfd3b24d"
      },
      "execution_count": null,
      "outputs": [
        {
          "output_type": "execute_result",
          "data": {
            "text/plain": [
              "(767, 30)"
            ]
          },
          "metadata": {},
          "execution_count": 98
        }
      ]
    },
    {
      "cell_type": "markdown",
      "source": [
        "**Creating Torch Tensors for Data Loader**"
      ],
      "metadata": {
        "id": "SJ325k8gxg3E"
      }
    },
    {
      "cell_type": "code",
      "source": [
        "train_inputs = torch.tensor(input_ids_train)\n",
        "validation_inputs = torch.tensor(input_ids_valid)\n",
        "test_inputs = torch.tensor(input_ids_test)\n",
        "\n",
        "\n",
        "train_labels = torch.tensor(labels_train)\n",
        "validation_labels = torch.tensor(labels_valid)\n",
        "test_labels = torch.tensor(labels_test)\n",
        "\n",
        "train_masks = torch.tensor(attention_masks_train)\n",
        "validation_masks = torch.tensor(attention_masks_valid)\n",
        "test_masks = torch.tensor(attention_masks_test)"
      ],
      "metadata": {
        "id": "0A5FqwKOxX6Q"
      },
      "execution_count": null,
      "outputs": []
    },
    {
      "cell_type": "code",
      "source": [
        "from torch.utils.data import TensorDataset, DataLoader, RandomSampler, SequentialSampler\n",
        "import torch.nn as nn\n",
        "\n",
        "batch_size = 16\n",
        "\n",
        "\n",
        "# DataLoader for our training set.\n",
        "train_data = TensorDataset(train_inputs, train_masks, train_labels)\n",
        "train_sampler = RandomSampler(train_data)\n",
        "train_dataloader = DataLoader(train_data, sampler=train_sampler, batch_size=batch_size)\n",
        "\n",
        "# DataLoader for our validation set.\n",
        "validation_data = TensorDataset(validation_inputs, validation_masks, validation_labels)\n",
        "validation_sampler = SequentialSampler(validation_data)\n",
        "validation_dataloader = DataLoader(validation_data, sampler=validation_sampler, batch_size=batch_size)\n",
        "\n",
        "# DataLoader for our test set.\n",
        "test_data = TensorDataset(test_inputs, test_masks, test_labels)\n",
        "test_sampler = SequentialSampler(test_data)\n",
        "test_dataloader = DataLoader(test_data, sampler=test_sampler, batch_size=batch_size)"
      ],
      "metadata": {
        "id": "ocPPQyVqyMGJ"
      },
      "execution_count": null,
      "outputs": []
    },
    {
      "cell_type": "code",
      "source": [
        "from transformers import BertForSequenceClassification"
      ],
      "metadata": {
        "id": "smZwYJTB3VsK"
      },
      "execution_count": null,
      "outputs": []
    },
    {
      "cell_type": "code",
      "source": [
        "device = torch.device('cuda' if torch.cuda.is_available() else 'cpu')\n",
        "print(device)"
      ],
      "metadata": {
        "colab": {
          "base_uri": "https://localhost:8080/"
        },
        "id": "rGBeyEhk4iz1",
        "outputId": "96870d15-005a-422a-f886-969e2d74989d"
      },
      "execution_count": null,
      "outputs": [
        {
          "output_type": "stream",
          "name": "stdout",
          "text": [
            "cuda\n"
          ]
        }
      ]
    },
    {
      "cell_type": "code",
      "source": [
        "# Load BertForSequenceClassification, the pretrained BERT model with a single linear classification layer on top. \n",
        "model = BertForSequenceClassification.from_pretrained(\n",
        "    \"bert-base-uncased\", # Use the 12-layer BERT model, with an uncased vocab.\n",
        "    num_labels = 3, # The number of output labels--3.   \n",
        "    output_attentions = False, # Whether the model returns attentions weights.\n",
        "    output_hidden_states = False, # Whether the model returns all hidden-states.\n",
        ")\n",
        "\n",
        "# if device == \"cuda:0\":\n",
        "# # Tell pytorch to run this model on the GPU.\n",
        "#     model = model.cuda()\n",
        "model = model.to(device)"
      ],
      "metadata": {
        "colab": {
          "base_uri": "https://localhost:8080/"
        },
        "id": "HqJNHVys2-2r",
        "outputId": "349e4e6f-49e7-4f6b-fc75-81537a9908ff"
      },
      "execution_count": null,
      "outputs": [
        {
          "output_type": "stream",
          "name": "stderr",
          "text": [
            "Some weights of the model checkpoint at bert-base-uncased were not used when initializing BertForSequenceClassification: ['cls.seq_relationship.weight', 'cls.predictions.transform.LayerNorm.bias', 'cls.predictions.transform.dense.weight', 'cls.seq_relationship.bias', 'cls.predictions.bias', 'cls.predictions.transform.dense.bias', 'cls.predictions.decoder.weight', 'cls.predictions.transform.LayerNorm.weight']\n",
            "- This IS expected if you are initializing BertForSequenceClassification from the checkpoint of a model trained on another task or with another architecture (e.g. initializing a BertForSequenceClassification model from a BertForPreTraining model).\n",
            "- This IS NOT expected if you are initializing BertForSequenceClassification from the checkpoint of a model that you expect to be exactly identical (initializing a BertForSequenceClassification model from a BertForSequenceClassification model).\n",
            "Some weights of BertForSequenceClassification were not initialized from the model checkpoint at bert-base-uncased and are newly initialized: ['classifier.bias', 'classifier.weight']\n",
            "You should probably TRAIN this model on a down-stream task to be able to use it for predictions and inference.\n"
          ]
        }
      ]
    },
    {
      "cell_type": "markdown",
      "source": [
        "**Setting Up Optimiser and Scheduler**"
      ],
      "metadata": {
        "id": "VKzFyIhJ4M2M"
      }
    },
    {
      "cell_type": "code",
      "source": [
        "from transformers import AdamW, get_linear_schedule_with_warmup\n",
        "optimizer = AdamW(model.parameters(),\n",
        "                  lr = 2e-5, # args.learning_rate - default is 5e-5, our notebook had 2e-5\n",
        "                  eps = 1e-8 # args.adam_epsilon  - default is 1e-8.\n",
        "                )"
      ],
      "metadata": {
        "colab": {
          "base_uri": "https://localhost:8080/"
        },
        "id": "kLnXP40J3kh4",
        "outputId": "ccd97837-e1a0-42d2-aa37-cf22b9d94bd4"
      },
      "execution_count": null,
      "outputs": [
        {
          "output_type": "stream",
          "name": "stderr",
          "text": [
            "/usr/local/lib/python3.8/dist-packages/transformers/optimization.py:306: FutureWarning: This implementation of AdamW is deprecated and will be removed in a future version. Use the PyTorch implementation torch.optim.AdamW instead, or set `no_deprecation_warning=True` to disable this warning\n",
            "  warnings.warn(\n"
          ]
        }
      ]
    },
    {
      "cell_type": "code",
      "source": [
        "epochs = 5\n",
        "\n",
        "scheduler = get_linear_schedule_with_warmup(optimizer, \n",
        "                                            num_warmup_steps=0,\n",
        "                                            num_training_steps=len(train_dataloader)*epochs)"
      ],
      "metadata": {
        "id": "Cr4C1K2_3sOi"
      },
      "execution_count": null,
      "outputs": []
    },
    {
      "cell_type": "markdown",
      "source": [
        "**Setting Performance Metrics**"
      ],
      "metadata": {
        "id": "cuvfIbPZ4RqJ"
      }
    },
    {
      "cell_type": "code",
      "source": [
        "def f1_score_func(preds, labels):\n",
        "    preds_flat = np.argmax(preds, axis=1).flatten()\n",
        "    labels_flat = labels.flatten()\n",
        "    return f1_score(labels_flat, preds_flat, average='weighted')"
      ],
      "metadata": {
        "id": "B8JKHc0_4KsU"
      },
      "execution_count": null,
      "outputs": []
    },
    {
      "cell_type": "code",
      "source": [
        "label_dict = {'Positive':2, 'Negative':0, 'Neutral':1}"
      ],
      "metadata": {
        "id": "bm_FFWPl_Cbn"
      },
      "execution_count": null,
      "outputs": []
    },
    {
      "cell_type": "code",
      "source": [
        "def accuracy_per_class(preds, labels):\n",
        "    label_dict_inverse = {v: k for k, v in label_dict.items()}\n",
        "    \n",
        "    preds_flat = np.argmax(preds, axis=1).flatten()\n",
        "    labels_flat = labels.flatten()\n",
        "\n",
        "    for label in np.unique(labels_flat):\n",
        "        y_preds = preds_flat[labels_flat==label]\n",
        "        y_true = labels_flat[labels_flat==label]\n",
        "        print(f'Class: {label_dict_inverse[label]}')\n",
        "        print(f'Accuracy: {len(y_preds[y_preds==label])}/{len(y_true)}\\n')"
      ],
      "metadata": {
        "id": "bsV6UJEO4XwR"
      },
      "execution_count": null,
      "outputs": []
    },
    {
      "cell_type": "markdown",
      "source": [
        "# **Training the model**"
      ],
      "metadata": {
        "id": "scVt7vS44dOg"
      }
    },
    {
      "cell_type": "code",
      "source": [
        "import random\n",
        "\n",
        "seed_val = 17\n",
        "random.seed(seed_val)\n",
        "np.random.seed(seed_val)\n",
        "torch.manual_seed(seed_val)\n",
        "torch.cuda.manual_seed_all(seed_val)"
      ],
      "metadata": {
        "id": "81dwqauK4ab1"
      },
      "execution_count": null,
      "outputs": []
    },
    {
      "cell_type": "code",
      "source": [
        "def evaluate(dataloader_val):\n",
        "\n",
        "    model.eval()\n",
        "    \n",
        "    loss_val_total = 0\n",
        "    predictions, true_vals = [], []\n",
        "    \n",
        "    for batch in dataloader_val:\n",
        "        \n",
        "        batch = tuple(b.to(device) for b in batch)\n",
        "        \n",
        "        inputs = {'input_ids':      batch[0],\n",
        "                  'attention_mask': batch[1],\n",
        "                  'labels':         batch[2],\n",
        "                 }\n",
        "\n",
        "        with torch.no_grad():        \n",
        "            outputs = model(**inputs)\n",
        "            \n",
        "        loss = outputs[0]\n",
        "        logits = outputs[1]\n",
        "        loss_val_total += loss.item()\n",
        "\n",
        "        logits = logits.detach().cpu().numpy()\n",
        "        label_ids = inputs['labels'].cpu().numpy()\n",
        "        predictions.append(logits)\n",
        "        true_vals.append(label_ids)\n",
        "    \n",
        "    loss_val_avg = loss_val_total/len(dataloader_val) \n",
        "    predictions = np.concatenate(predictions, axis=0)\n",
        "    true_vals = np.concatenate(true_vals, axis=0)\n",
        "            \n",
        "    return loss_val_avg, predictions, true_vals"
      ],
      "metadata": {
        "id": "Y-eDN0L14sqw"
      },
      "execution_count": null,
      "outputs": []
    },
    {
      "cell_type": "code",
      "source": [
        "for epoch in tqdm(range(1, epochs+1)):   \n",
        "    model.train()   \n",
        "    loss_train_total = 0\n",
        "    progress_bar = tqdm(train_dataloader, desc='Epoch {:1d}'.format(epoch), leave=False, disable=False)    \n",
        "    \n",
        "    for batch in progress_bar:\n",
        "        model.zero_grad()  #backward pass     \n",
        "        #add batch to GPU\n",
        "        batch = tuple(b.to(device) for b in batch)          \n",
        "        #Unpack the inputs from dataloader\n",
        "        inputs = {'input_ids':      batch[0],\n",
        "                  'attention_mask': batch[1],\n",
        "                  'labels':         batch[2],\n",
        "                 }       \n",
        "        outputs = model(**inputs) #forward pass\n",
        "        \n",
        "        loss = outputs[0]\n",
        "        loss_train_total += loss.item()\n",
        "        loss.backward()   #backward pass to calculate gradients\n",
        "\n",
        "        torch.nn.utils.clip_grad_norm_(model.parameters(), 1.0)\n",
        "        optimizer.step()\n",
        "        scheduler.step()        \n",
        "        progress_bar.set_postfix({'training_loss': '{:.3f}'.format(loss.item()/len(batch))})    \n",
        "        \n",
        "    torch.save(model.state_dict(), f'finetuned_BERT_epoch_{epoch}.model')\n",
        "        \n",
        "    tqdm.write(f'\\nEpoch {epoch}')\n",
        "    \n",
        "    loss_train_avg = loss_train_total/len(train_dataloader)            \n",
        "    tqdm.write(f'Training loss: {loss_train_avg}')\n",
        "    \n",
        "    #evaluating model\n",
        "    val_loss, predictions, true_vals = evaluate(validation_dataloader)\n",
        "    val_f1 = f1_score_func(predictions, true_vals)\n",
        "    tqdm.write(f'Validation loss: {val_loss}')\n",
        "    tqdm.write(f'F1 Score (Weighted): {val_f1}')"
      ],
      "metadata": {
        "colab": {
          "base_uri": "https://localhost:8080/",
          "height": 483,
          "referenced_widgets": [
            "b721cc13749f4a12a597cbebd4f6aff6",
            "22060893d739434f9dfe8c21ee33eb37",
            "1231a9bb0327433f9d4326d3710a0257",
            "4517734e77b54044bf1e2728a19197ec",
            "0ac9ad59d17c483c9c4eb980f6f46d0f",
            "297194fd9ce541b9a028db52df290ce4",
            "078a0438d558481c82497a7a586f6895",
            "2f0605f3acc14f9fab83f3191d0b6fa3",
            "fe4d1323f0d8406c893b842c44e56e6d",
            "861d3e729cca4194bf8a638d926d78ad",
            "b2cad3e99d3c45dcaeba0d6de155394d",
            "366c689c80474e50881e72d91af95a1b",
            "200146300386438080dec282d951f8bf",
            "0aaf5b0dbd8240e1a6c781ae7247ba07",
            "4d4d93c55ff748fb9a3869206c1b93b0",
            "91beab86963949fea349cfe48f1718e5",
            "1ac80e94b73c4f3080d6e96e9daff219",
            "c470275d9d754c6ba945f0390ce16ef4",
            "b9309a8853be4dadafc3b7ece94a6dd0",
            "00b9a047db5d44b48f68c8af3eb799bb",
            "61de0d7f52fb4a05838b60aeb4e16f34",
            "9992069839bf4f3694c2b51ffe3f8bc3",
            "f3059f75c1ad49a8991a64f9425f9c7e",
            "9ab0a7198cc340ecbbe2fe2cb99c8d62",
            "a906bfcc81fd4d67b2d1beb8d674edd9",
            "ead85d80c536458982033b4d10e4cb57",
            "30784b9ddfc647fc8d3efd8593c76340",
            "be2ade9f8c0a4bb598bca44a5e182ac0",
            "44c7a397bfb84ef7b2d7ed1c11493eb2",
            "19c48ebfad6545abafacf17ffdf065e1",
            "71fd04acdaf341358092e9e2b425e4ba",
            "3833d5db0ced4d3eb4fdd4f876e63dc2",
            "134940ce636648899c82df7d09b1ee4f",
            "ec65e9de282d4cd6960554430ca3b272",
            "52f8fdc2e55944ada97eb5e63d6e353d",
            "d2f3c4a27942442584e3bb6ec4051789",
            "20b7702410c3477a9bde99517e48c528",
            "1a78626150c24572913e8032f6647d87",
            "26fd8ef48043437290621c1f999aa7cd",
            "18e7bb1e976843a19484babb5cd14e68",
            "623bcfbf56ad43c7bdf343136c6fd580",
            "1954da9b0be44ff7b9b915928cc3a34c",
            "9bc3bdc3d8d643e588b175f7a89d222f",
            "a351a69a665a436b9f6903a6e8caa88f",
            "5f9a1c236b7143e796f4ca958b7eff39",
            "7711ee9500e843a28a6266003c78107c",
            "4fb80153403149cc8b84cb1161ec0c85",
            "178aad4603da4e6aa3206a79d5fda6b0",
            "a01ea36459e9405581cf0830fb65db53",
            "695f88e47d6045ce93cf0c244329b827",
            "252b3c0192604e728948aef96293145d",
            "1a6cfa93f9104111b88618aaa907574b",
            "174bbfa1b1a54d119becccdc45afa218",
            "f618209597b14461bb5b53f5a47248ca",
            "6369d47884d14c6f9df6b36875ce8cba",
            "f72d9dfbfcb14041b7d1de89aac8bb2d",
            "df423e22a5b0439dbd2eb86d1885084e",
            "9ff882c23f1f4cf9ab8c79f6ccfc20e4",
            "a09f46e75318407b846fed78ac1ff3f9",
            "4880b414139d445f823b06f5c4ec4bdd",
            "55f638b6abc842af8583cdb4ad3ac2af",
            "b873a1c3fa04470f8e66c2fc456a6c50",
            "c28434d84394423ca032f9151b27b65d",
            "475ccb1cc5ef42c0b91affa32f665371",
            "74069ff955e64adeae58f70e5eb207ec",
            "f4f043c461af41c4ba72754d323b80a0"
          ]
        },
        "id": "9jdrwdU85Hz9",
        "outputId": "f9b22450-faae-429d-8e23-856cd7ee4a0c"
      },
      "execution_count": null,
      "outputs": [
        {
          "output_type": "display_data",
          "data": {
            "text/plain": [
              "  0%|          | 0/5 [00:00<?, ?it/s]"
            ],
            "application/vnd.jupyter.widget-view+json": {
              "version_major": 2,
              "version_minor": 0,
              "model_id": "b721cc13749f4a12a597cbebd4f6aff6"
            }
          },
          "metadata": {}
        },
        {
          "output_type": "display_data",
          "data": {
            "text/plain": [
              "Epoch 1:   0%|          | 0/48 [00:00<?, ?it/s]"
            ],
            "application/vnd.jupyter.widget-view+json": {
              "version_major": 2,
              "version_minor": 0,
              "model_id": "366c689c80474e50881e72d91af95a1b"
            }
          },
          "metadata": {}
        },
        {
          "output_type": "stream",
          "name": "stdout",
          "text": [
            "\n",
            "Epoch 1\n",
            "Training loss: 0.9587126473585764\n",
            "Validation loss: 0.8090617145810809\n",
            "F1 Score (Weighted): 0.6048415750886146\n"
          ]
        },
        {
          "output_type": "display_data",
          "data": {
            "text/plain": [
              "Epoch 2:   0%|          | 0/48 [00:00<?, ?it/s]"
            ],
            "application/vnd.jupyter.widget-view+json": {
              "version_major": 2,
              "version_minor": 0,
              "model_id": "f3059f75c1ad49a8991a64f9425f9c7e"
            }
          },
          "metadata": {}
        },
        {
          "output_type": "stream",
          "name": "stdout",
          "text": [
            "\n",
            "Epoch 2\n",
            "Training loss: 0.6480680691699187\n",
            "Validation loss: 0.5474942965166909\n",
            "F1 Score (Weighted): 0.7846236063377291\n"
          ]
        },
        {
          "output_type": "display_data",
          "data": {
            "text/plain": [
              "Epoch 3:   0%|          | 0/48 [00:00<?, ?it/s]"
            ],
            "application/vnd.jupyter.widget-view+json": {
              "version_major": 2,
              "version_minor": 0,
              "model_id": "ec65e9de282d4cd6960554430ca3b272"
            }
          },
          "metadata": {}
        },
        {
          "output_type": "stream",
          "name": "stdout",
          "text": [
            "\n",
            "Epoch 3\n",
            "Training loss: 0.3975261515006423\n",
            "Validation loss: 0.5248043845806803\n",
            "F1 Score (Weighted): 0.7829725179632134\n"
          ]
        },
        {
          "output_type": "display_data",
          "data": {
            "text/plain": [
              "Epoch 4:   0%|          | 0/48 [00:00<?, ?it/s]"
            ],
            "application/vnd.jupyter.widget-view+json": {
              "version_major": 2,
              "version_minor": 0,
              "model_id": "5f9a1c236b7143e796f4ca958b7eff39"
            }
          },
          "metadata": {}
        },
        {
          "output_type": "stream",
          "name": "stdout",
          "text": [
            "\n",
            "Epoch 4\n",
            "Training loss: 0.25785984098911285\n",
            "Validation loss: 0.5041532106697559\n",
            "F1 Score (Weighted): 0.8162965122232217\n"
          ]
        },
        {
          "output_type": "display_data",
          "data": {
            "text/plain": [
              "Epoch 5:   0%|          | 0/48 [00:00<?, ?it/s]"
            ],
            "application/vnd.jupyter.widget-view+json": {
              "version_major": 2,
              "version_minor": 0,
              "model_id": "f72d9dfbfcb14041b7d1de89aac8bb2d"
            }
          },
          "metadata": {}
        },
        {
          "output_type": "stream",
          "name": "stdout",
          "text": [
            "\n",
            "Epoch 5\n",
            "Training loss: 0.17108432645909488\n",
            "Validation loss: 0.5410563413585935\n",
            "F1 Score (Weighted): 0.7745565459426663\n"
          ]
        }
      ]
    },
    {
      "cell_type": "code",
      "source": [
        "#last batch\n",
        "accuracy_per_class(predictions, true_vals)"
      ],
      "metadata": {
        "colab": {
          "base_uri": "https://localhost:8080/"
        },
        "id": "GODxOo0Z_4GE",
        "outputId": "ee2cbb26-2af1-48a5-b131-fd75aa66f261"
      },
      "execution_count": null,
      "outputs": [
        {
          "output_type": "stream",
          "name": "stdout",
          "text": [
            "Class: Negative\n",
            "Accuracy: 69/81\n",
            "\n",
            "Class: Neutral\n",
            "Accuracy: 71/100\n",
            "\n",
            "Class: Positive\n",
            "Accuracy: 29/37\n",
            "\n"
          ]
        }
      ]
    },
    {
      "cell_type": "markdown",
      "source": [
        "**Model Evaluation using Validation Data**"
      ],
      "metadata": {
        "id": "PEnrftj9AIUR"
      }
    },
    {
      "cell_type": "code",
      "source": [
        "_, predictions, true_vals = evaluate(validation_dataloader)"
      ],
      "metadata": {
        "id": "yfepsA-mAE-3"
      },
      "execution_count": null,
      "outputs": []
    },
    {
      "cell_type": "code",
      "source": [
        "accuracy_per_class(predictions, true_vals)"
      ],
      "metadata": {
        "colab": {
          "base_uri": "https://localhost:8080/"
        },
        "id": "K2tPe9neAMhA",
        "outputId": "5e356253-bd8f-40a3-dc5d-8aa99f454aba"
      },
      "execution_count": null,
      "outputs": [
        {
          "output_type": "stream",
          "name": "stdout",
          "text": [
            "Class: Negative\n",
            "Accuracy: 69/81\n",
            "\n",
            "Class: Neutral\n",
            "Accuracy: 71/100\n",
            "\n",
            "Class: Positive\n",
            "Accuracy: 29/37\n",
            "\n"
          ]
        }
      ]
    },
    {
      "cell_type": "code",
      "source": [
        "predictions"
      ],
      "metadata": {
        "colab": {
          "base_uri": "https://localhost:8080/"
        },
        "id": "kHbF0E88APMd",
        "outputId": "c28c9e20-a998-4eb7-ead0-cc2ad24d191d"
      },
      "execution_count": null,
      "outputs": [
        {
          "output_type": "execute_result",
          "data": {
            "text/plain": [
              "array([[ 2.9528463 , -0.4547087 , -2.038586  ],\n",
              "       [ 3.058204  , -0.77800834, -1.7722652 ],\n",
              "       [-1.3414283 ,  2.5613194 , -0.97365505],\n",
              "       [ 2.5976143 , -0.6157534 , -1.700049  ],\n",
              "       [-2.2838368 ,  0.1301396 ,  1.8738713 ],\n",
              "       [-0.6492725 ,  2.4910834 , -1.4323667 ],\n",
              "       [ 2.9806743 , -0.7404622 , -1.7593293 ],\n",
              "       [ 2.6116455 , -0.79769814, -1.5627047 ],\n",
              "       [ 0.08179312,  2.1197202 , -1.8083915 ],\n",
              "       [ 2.7890637 , -0.6557568 , -1.7711924 ],\n",
              "       [ 0.3329713 ,  0.7763348 , -1.4617028 ],\n",
              "       [ 1.047281  ,  1.9031906 , -2.3276868 ],\n",
              "       [ 2.6283836 , -0.10386928, -2.2129917 ],\n",
              "       [ 2.9655952 , -0.6408437 , -1.9468724 ],\n",
              "       [-2.0590556 , -0.8465061 ,  2.292283  ],\n",
              "       [ 2.9964068 , -0.5792307 , -2.0027826 ],\n",
              "       [-1.0565969 ,  3.0046601 , -1.3016962 ],\n",
              "       [-1.0441172 ,  1.2246709 ,  0.20693843],\n",
              "       [ 2.770916  ,  0.29329938, -2.4046855 ],\n",
              "       [ 1.8078893 ,  1.175369  , -2.3529463 ],\n",
              "       [ 0.8761028 ,  2.1355913 , -2.1198125 ],\n",
              "       [ 1.3074578 ,  1.1698866 , -2.2664866 ],\n",
              "       [-1.3720037 ,  2.5978148 , -0.88832456],\n",
              "       [-1.6932462 ,  2.602899  , -0.4254307 ],\n",
              "       [ 2.9752219 , -0.6124765 , -1.9660687 ],\n",
              "       [ 0.42036328,  2.3392622 , -2.1794    ],\n",
              "       [-2.4434097 ,  0.998815  ,  1.5115435 ],\n",
              "       [ 1.3502353 ,  1.3666323 , -2.443309  ],\n",
              "       [ 2.9385345 , -0.10521311, -2.2819932 ],\n",
              "       [ 2.6110418 ,  0.23420739, -2.2897298 ],\n",
              "       [ 1.9895291 ,  0.5503619 , -2.4065113 ],\n",
              "       [ 1.528247  ,  0.6913212 , -1.9772589 ],\n",
              "       [-1.17051   ,  2.9680977 , -1.1822319 ],\n",
              "       [ 3.1044204 , -0.7938201 , -1.784063  ],\n",
              "       [-1.5368571 ,  2.4233193 , -0.42003986],\n",
              "       [-1.5965225 , -1.2373737 ,  2.2320132 ],\n",
              "       [-0.11667926,  2.5100923 , -1.7746704 ],\n",
              "       [-1.6000519 ,  1.7065346 , -0.14365028],\n",
              "       [-1.6292763 ,  2.6583462 , -0.68990743],\n",
              "       [-1.9634758 , -0.99799293,  2.431478  ],\n",
              "       [-0.612094  ,  2.304548  , -0.96850103],\n",
              "       [ 2.8946445 , -0.52535105, -1.9747175 ],\n",
              "       [ 2.8211193 , -0.9586167 , -1.4217486 ],\n",
              "       [-1.5334456 , -0.5455301 ,  1.5316408 ],\n",
              "       [-2.4716272 ,  1.1871631 ,  1.0440164 ],\n",
              "       [-2.034387  , -1.0360975 ,  2.2637284 ],\n",
              "       [ 2.6992645 , -0.16519482, -2.2533922 ],\n",
              "       [ 2.88214   , -1.0126183 , -1.456272  ],\n",
              "       [ 2.2941835 ,  0.47180602, -2.3603857 ],\n",
              "       [-2.3417118 ,  1.9992423 ,  0.3295892 ],\n",
              "       [-1.404078  ,  2.8357394 , -0.89065397],\n",
              "       [-2.406368  ,  0.24264616,  1.7314819 ],\n",
              "       [-2.2747743 , -0.44602445,  2.1452549 ],\n",
              "       [-1.2985958 ,  2.7238052 , -0.9055784 ],\n",
              "       [ 2.754081  ,  0.03603064, -2.5223851 ],\n",
              "       [ 2.266862  ,  0.7133557 , -2.5135772 ],\n",
              "       [ 1.046535  ,  1.1482178 , -1.9799682 ],\n",
              "       [ 2.593739  ,  0.06823559, -2.3064427 ],\n",
              "       [-1.6599247 , -1.0935874 ,  2.2374842 ],\n",
              "       [-2.5863762 ,  0.8832403 ,  1.3703996 ],\n",
              "       [ 0.06057131,  2.2825768 , -1.9898609 ],\n",
              "       [-2.2333076 ,  1.6783724 ,  0.6364079 ],\n",
              "       [-0.9487911 ,  2.9963412 , -1.381157  ],\n",
              "       [ 2.9514854 , -0.8802721 , -1.5933435 ],\n",
              "       [-1.1166689 ,  2.4341614 , -0.92591256],\n",
              "       [ 1.8511575 ,  1.2498945 , -2.3556328 ],\n",
              "       [ 2.8001049 , -0.04577872, -2.3993871 ],\n",
              "       [ 2.6930697 , -0.79712266, -1.6852181 ],\n",
              "       [-2.2015314 , -0.21322082,  2.029547  ],\n",
              "       [ 2.9019678 , -1.0186646 , -1.4888985 ],\n",
              "       [-1.8283306 ,  2.3104484 , -0.3266821 ],\n",
              "       [ 2.9699671 , -0.55035657, -1.9839642 ],\n",
              "       [-0.33376288,  1.5510471 , -1.1879461 ],\n",
              "       [ 2.1217241 , -0.868305  , -1.1023948 ],\n",
              "       [-1.1672845 ,  2.6998804 , -0.91062295],\n",
              "       [-1.2136776 ,  2.8762703 , -1.0689392 ],\n",
              "       [-1.9966534 , -0.60485893,  2.1518223 ],\n",
              "       [-1.8908089 , -0.6859122 ,  2.0450566 ],\n",
              "       [ 0.6921794 ,  0.33230504, -1.550606  ],\n",
              "       [-2.2535634 , -0.7281869 ,  2.3646696 ],\n",
              "       [ 2.037936  ,  0.65149724, -2.1603453 ],\n",
              "       [-2.2733786 , -0.2421396 ,  1.8761971 ],\n",
              "       [ 2.7939696 , -0.9935188 , -1.3222249 ],\n",
              "       [-0.96692663,  0.88994175,  0.27461958],\n",
              "       [-0.48121905,  1.272036  , -1.0957695 ],\n",
              "       [-2.5793917 ,  1.1032938 ,  1.2128644 ],\n",
              "       [ 2.885753  , -0.7006648 , -1.5415158 ],\n",
              "       [ 3.1171782 , -0.5656148 , -1.8124737 ],\n",
              "       [-0.8227064 ,  2.4299264 , -1.1848689 ],\n",
              "       [-0.24995384,  0.9176603 , -0.31166983],\n",
              "       [-2.0841029 ,  1.8883682 ,  0.27528057],\n",
              "       [ 2.4462729 , -0.92252314, -1.2178886 ],\n",
              "       [-1.9872885 ,  2.5107248 , -0.3445719 ],\n",
              "       [-1.0915537 ,  2.8321524 , -1.3003007 ],\n",
              "       [ 2.928259  , -0.63313746, -1.9032679 ],\n",
              "       [-0.62612563,  2.9439585 , -1.5490068 ],\n",
              "       [-1.5755199 , -1.1070282 ,  2.2438023 ],\n",
              "       [-1.3460802 ,  2.5548384 , -1.0043242 ],\n",
              "       [ 2.9285622 , -0.95275134, -1.4231973 ],\n",
              "       [-1.1409702 ,  3.0069993 , -1.1802491 ],\n",
              "       [-1.6087013 ,  2.6970067 , -0.6382701 ],\n",
              "       [-1.8697196 , -1.115472  ,  2.3100157 ],\n",
              "       [-1.7068737 , -0.25069213,  1.5807642 ],\n",
              "       [-2.2484078 ,  1.6865388 ,  0.5000471 ],\n",
              "       [-0.03925949,  2.8253415 , -1.9322879 ],\n",
              "       [ 1.6571293 ,  1.2898104 , -2.355509  ],\n",
              "       [ 3.0713608 , -0.41987792, -1.9560971 ],\n",
              "       [-1.0599973 ,  2.8591046 , -1.2233984 ],\n",
              "       [ 2.9826186 , -0.6071207 , -1.8844708 ],\n",
              "       [-1.4641145 ,  2.864383  , -0.86152196],\n",
              "       [ 2.1671078 ,  0.7217757 , -2.4839647 ],\n",
              "       [-1.7717147 , -1.200401  ,  2.289488  ],\n",
              "       [ 2.0420618 ,  0.23661974, -2.0145288 ],\n",
              "       [ 2.0312443 ,  0.89014024, -2.5138721 ],\n",
              "       [ 2.9227927 , -0.17840001, -2.1982834 ],\n",
              "       [-1.6582403 ,  0.12607092,  1.014936  ],\n",
              "       [ 2.4188037 ,  0.48279834, -2.527403  ],\n",
              "       [ 2.5182056 ,  0.18082896, -2.4292276 ],\n",
              "       [-1.2949772 ,  2.0622656 , -0.47464082],\n",
              "       [-0.9615021 ,  3.0155358 , -1.2849342 ],\n",
              "       [ 1.6084132 ,  0.9676177 , -2.2318277 ],\n",
              "       [-1.2099191 , -1.1324862 ,  1.920689  ],\n",
              "       [ 2.5785825 ,  0.03250255, -2.1425972 ],\n",
              "       [-0.82334656,  2.2930415 , -1.1057365 ],\n",
              "       [-1.7688199 ,  2.272119  , -0.2754205 ],\n",
              "       [-0.99032444,  2.5376995 , -1.0540113 ],\n",
              "       [ 2.6820002 , -0.515028  , -1.6922767 ],\n",
              "       [ 2.4750848 , -0.7360319 , -1.4292433 ],\n",
              "       [ 2.0789661 ,  0.9435508 , -2.3775768 ],\n",
              "       [ 2.7817523 , -0.3247833 , -2.163738  ],\n",
              "       [ 2.8196683 , -0.36535534, -2.0405219 ],\n",
              "       [-2.1612713 , -0.80501056,  2.287017  ],\n",
              "       [ 3.1563919 , -0.5269062 , -2.0478077 ],\n",
              "       [-0.26541913,  2.6330748 , -1.7265257 ],\n",
              "       [ 1.8186563 ,  0.14687017, -1.8890455 ],\n",
              "       [-2.1166966 ,  0.80473745,  1.0513872 ],\n",
              "       [-2.4582417 ,  0.37829018,  1.5020813 ],\n",
              "       [-2.0426242 , -0.919813  ,  2.3119833 ],\n",
              "       [ 3.101867  , -0.55608785, -2.0051358 ],\n",
              "       [-1.5006721 ,  2.463841  , -0.75091094],\n",
              "       [-1.6314051 , -1.1670346 ,  2.214433  ],\n",
              "       [-1.1650975 ,  2.902695  , -1.2249119 ],\n",
              "       [-0.44330224,  2.5519516 , -1.6010758 ],\n",
              "       [ 2.3416882 ,  0.7261923 , -2.5090556 ],\n",
              "       [ 2.6624153 , -0.77700734, -1.7505717 ],\n",
              "       [-1.0470083 ,  2.7323513 , -1.0005095 ],\n",
              "       [ 1.0702933 ,  1.6462722 , -2.3087888 ],\n",
              "       [ 2.8636045 , -0.7770524 , -1.528443  ],\n",
              "       [-0.898251  ,  2.4292011 , -1.3740445 ],\n",
              "       [-2.0006778 , -0.9859622 ,  2.3864484 ],\n",
              "       [-0.24135175,  2.470503  , -1.544971  ],\n",
              "       [ 1.271139  , -1.0766914 , -0.5366991 ],\n",
              "       [ 2.6030176 , -0.94059783, -1.442908  ],\n",
              "       [-1.9234095 ,  2.6451344 , -0.5137514 ],\n",
              "       [-1.9672687 , -0.8021436 ,  2.1744936 ],\n",
              "       [ 2.9997723 , -0.39442772, -2.1257236 ],\n",
              "       [-1.6179084 ,  2.6947358 , -0.5107525 ],\n",
              "       [ 2.8814833 , -0.19690517, -2.0833378 ],\n",
              "       [ 1.3240839 , -0.81215096, -0.5158019 ],\n",
              "       [ 2.7519274 , -0.3013502 , -1.7803861 ],\n",
              "       [-1.5459925 ,  0.03599522,  1.1013035 ],\n",
              "       [ 2.9569309 , -0.85452604, -1.5869546 ],\n",
              "       [-0.9765901 ,  2.7697968 , -1.1968783 ],\n",
              "       [-1.2045355 , -0.9324376 ,  1.516606  ],\n",
              "       [-1.9051467 ,  2.1374247 , -0.16629632],\n",
              "       [-2.228103  , -0.65151036,  2.1174953 ],\n",
              "       [-0.14056537,  2.6828556 , -1.8273067 ],\n",
              "       [-1.5858009 , -1.2997233 ,  2.2759452 ],\n",
              "       [ 2.8447053 , -0.31003025, -1.9725666 ],\n",
              "       [-2.0572999 ,  2.2153497 , -0.09930876],\n",
              "       [ 2.0941858 ,  0.8013216 , -2.2294016 ],\n",
              "       [ 2.84117   , -0.52903396, -1.9036741 ],\n",
              "       [-2.3097303 , -0.5402014 ,  2.2137961 ],\n",
              "       [ 2.4469125 ,  0.24878266, -2.5187047 ],\n",
              "       [ 2.5450375 ,  0.11902067, -2.27085   ],\n",
              "       [-1.011003  ,  2.7828238 , -1.1813012 ],\n",
              "       [ 3.138754  , -0.5035816 , -2.0217388 ],\n",
              "       [-1.0655527 ,  2.9118123 , -1.1419451 ],\n",
              "       [ 2.240689  ,  0.11060975, -1.9042271 ],\n",
              "       [ 2.8808117 , -0.20743075, -2.2371557 ],\n",
              "       [-1.2167739 ,  2.0629506 , -0.47015822],\n",
              "       [ 1.2892103 ,  1.4314581 , -2.1139557 ],\n",
              "       [-0.4889509 ,  2.5802643 , -1.7100006 ],\n",
              "       [ 2.6029847 , -1.102121  , -1.274704  ],\n",
              "       [ 2.9727557 , -0.2716773 , -2.17719   ],\n",
              "       [-1.0293016 ,  2.48037   , -1.0830482 ],\n",
              "       [-1.9977393 , -0.78178525,  2.160792  ],\n",
              "       [-1.9077641 , -0.9155089 ,  2.318223  ],\n",
              "       [-2.3877373 ,  0.59439147,  1.4281453 ],\n",
              "       [-2.3644998 , -0.32730663,  2.0152903 ],\n",
              "       [-1.3581368 ,  2.9881794 , -1.1444554 ],\n",
              "       [-2.0173228 ,  2.3103106 , -0.0383271 ],\n",
              "       [-2.4421723 ,  1.2440964 ,  1.0519162 ],\n",
              "       [ 1.3292459 ,  1.4014808 , -2.171889  ],\n",
              "       [-1.3787601 ,  2.683679  , -1.0029026 ],\n",
              "       [ 2.5956328 ,  0.38429746, -2.4202232 ],\n",
              "       [ 2.8776917 , -0.86267656, -1.4400064 ],\n",
              "       [ 2.7512884 , -0.04115421, -2.2695818 ],\n",
              "       [-1.3187805 ,  1.9417516 , -0.45632172],\n",
              "       [-1.9539406 ,  2.4118593 , -0.18304454],\n",
              "       [-2.1170814 , -0.48553678,  2.0981169 ],\n",
              "       [-1.6351972 , -1.0560219 ,  2.118201  ],\n",
              "       [ 2.9450097 , -0.72260946, -1.6909132 ],\n",
              "       [-0.9353613 ,  2.7534592 , -1.3310004 ],\n",
              "       [-1.2902853 ,  2.4797375 , -0.90116185],\n",
              "       [ 0.4680926 ,  1.7365841 , -1.7322395 ],\n",
              "       [ 2.913804  , -0.8560116 , -1.5466243 ],\n",
              "       [-0.14027467,  2.2726052 , -1.5788466 ],\n",
              "       [-1.1329951 ,  0.4114367 ,  0.62415606],\n",
              "       [ 2.8962843 , -0.40693972, -1.9849848 ],\n",
              "       [ 2.8959186 , -0.9060969 , -1.456964  ],\n",
              "       [-0.39474508,  1.3141747 , -0.56314015],\n",
              "       [ 0.33320472,  2.139415  , -1.81425   ],\n",
              "       [ 2.5685616 , -0.08997531, -1.9173659 ],\n",
              "       [-1.0091989 ,  2.9463215 , -1.3197906 ],\n",
              "       [ 0.4229048 ,  1.8852662 , -2.124244  ],\n",
              "       [ 0.8396667 ,  1.8698909 , -2.381927  ],\n",
              "       [ 2.8863394 , -0.13319957, -2.3980277 ]], dtype=float32)"
            ]
          },
          "metadata": {},
          "execution_count": 115
        }
      ]
    },
    {
      "cell_type": "code",
      "source": [
        "true_vals"
      ],
      "metadata": {
        "colab": {
          "base_uri": "https://localhost:8080/"
        },
        "id": "bGa0w7dZAR1M",
        "outputId": "f12509db-73e5-4763-a3fa-0d7d03c7f256"
      },
      "execution_count": null,
      "outputs": [
        {
          "output_type": "execute_result",
          "data": {
            "text/plain": [
              "array([0, 0, 1, 0, 2, 1, 0, 0, 1, 1, 1, 1, 0, 0, 2, 0, 1, 2, 0, 1, 1, 1,\n",
              "       1, 1, 0, 1, 2, 0, 1, 1, 0, 0, 1, 0, 1, 2, 1, 1, 1, 2, 1, 0, 0, 2,\n",
              "       1, 2, 0, 0, 0, 2, 2, 1, 2, 1, 1, 0, 2, 0, 2, 1, 1, 1, 1, 0, 1, 1,\n",
              "       0, 0, 2, 0, 1, 0, 1, 0, 0, 1, 1, 2, 2, 2, 0, 1, 0, 1, 1, 1, 0, 0,\n",
              "       1, 0, 1, 2, 1, 1, 0, 1, 2, 1, 0, 1, 1, 2, 0, 2, 1, 0, 0, 1, 0, 1,\n",
              "       0, 2, 1, 1, 0, 1, 0, 0, 1, 1, 1, 0, 0, 1, 1, 1, 0, 0, 1, 0, 0, 2,\n",
              "       0, 1, 0, 1, 1, 2, 0, 1, 2, 1, 0, 1, 0, 1, 0, 0, 1, 2, 1, 0, 0, 1,\n",
              "       2, 0, 1, 0, 1, 0, 2, 0, 1, 2, 2, 2, 1, 2, 0, 1, 1, 0, 2, 1, 0, 1,\n",
              "       0, 1, 0, 0, 1, 0, 1, 0, 1, 1, 1, 2, 1, 2, 1, 1, 1, 0, 0, 1, 0, 0,\n",
              "       1, 1, 2, 2, 1, 1, 1, 0, 0, 0, 1, 0, 0, 1, 1, 0, 1, 1, 1, 0])"
            ]
          },
          "metadata": {},
          "execution_count": 116
        }
      ]
    },
    {
      "cell_type": "code",
      "source": [
        "input_ids_list = []\n",
        "\n",
        "for batch in validation_dataloader:\n",
        "    # Get input_ids tensor from the batch\n",
        "    input_ids = batch[0]\n",
        "    input_ids_list.append(input_ids)"
      ],
      "metadata": {
        "id": "Zhg2QKw5D1KG"
      },
      "execution_count": null,
      "outputs": []
    },
    {
      "cell_type": "code",
      "source": [
        "sent=[]\n",
        "for i in (input_ids_list):\n",
        "  for j in i:\n",
        "    x=tokenizer.convert_ids_to_tokens(j)\n",
        "    #print(x)\n",
        "    sent.append(x)"
      ],
      "metadata": {
        "id": "PRJHMosxFbM-"
      },
      "execution_count": null,
      "outputs": []
    },
    {
      "cell_type": "code",
      "source": [
        "len(sent)"
      ],
      "metadata": {
        "colab": {
          "base_uri": "https://localhost:8080/"
        },
        "id": "-0zE-O9mGOJn",
        "outputId": "374433a5-80fb-4ad4-c5c5-a090fc96c0ca"
      },
      "execution_count": null,
      "outputs": [
        {
          "output_type": "execute_result",
          "data": {
            "text/plain": [
              "218"
            ]
          },
          "metadata": {},
          "execution_count": 119
        }
      ]
    },
    {
      "cell_type": "code",
      "source": [
        "true_vals.shape"
      ],
      "metadata": {
        "colab": {
          "base_uri": "https://localhost:8080/"
        },
        "id": "cGCjCFy2AUUL",
        "outputId": "ab54187f-3ce9-48ea-922f-755745281919"
      },
      "execution_count": null,
      "outputs": [
        {
          "output_type": "execute_result",
          "data": {
            "text/plain": [
              "(218,)"
            ]
          },
          "metadata": {},
          "execution_count": 120
        }
      ]
    },
    {
      "cell_type": "code",
      "source": [
        "predictions.shape"
      ],
      "metadata": {
        "colab": {
          "base_uri": "https://localhost:8080/"
        },
        "id": "fvYkltWbAZS3",
        "outputId": "e286173a-ced2-4b35-c890-4e20c0c595db"
      },
      "execution_count": null,
      "outputs": [
        {
          "output_type": "execute_result",
          "data": {
            "text/plain": [
              "(218, 3)"
            ]
          },
          "metadata": {},
          "execution_count": 121
        }
      ]
    },
    {
      "cell_type": "code",
      "source": [
        "y_true=true_vals.flatten()"
      ],
      "metadata": {
        "id": "8Rj-Rv8YAfby"
      },
      "execution_count": null,
      "outputs": []
    },
    {
      "cell_type": "code",
      "source": [
        "y_pred=predictions.flatten()"
      ],
      "metadata": {
        "id": "7dYVMcGcAhTy"
      },
      "execution_count": null,
      "outputs": []
    },
    {
      "cell_type": "code",
      "source": [
        "preds_flat = np.argmax(predictions, axis=1).flatten()\n",
        "#labels_flat = labels.flatten()"
      ],
      "metadata": {
        "id": "F5PNQofvAjJ3"
      },
      "execution_count": null,
      "outputs": []
    },
    {
      "cell_type": "code",
      "source": [
        "from sklearn.metrics import classification_report\n",
        "\n",
        "print(classification_report(true_vals, preds_flat))"
      ],
      "metadata": {
        "colab": {
          "base_uri": "https://localhost:8080/"
        },
        "id": "NTmFcDSkAlpI",
        "outputId": "621880df-ef56-4413-b34f-d188d7ae4662"
      },
      "execution_count": null,
      "outputs": [
        {
          "output_type": "stream",
          "name": "stdout",
          "text": [
            "              precision    recall  f1-score   support\n",
            "\n",
            "           0       0.78      0.85      0.81        81\n",
            "           1       0.82      0.71      0.76       100\n",
            "           2       0.69      0.78      0.73        37\n",
            "\n",
            "    accuracy                           0.78       218\n",
            "   macro avg       0.76      0.78      0.77       218\n",
            "weighted avg       0.78      0.78      0.77       218\n",
            "\n"
          ]
        }
      ]
    },
    {
      "cell_type": "code",
      "source": [
        "from sklearn.metrics import confusion_matrix\n",
        "\n",
        "#Generate the confusion matrix\n",
        "cf_matrix = confusion_matrix(true_vals, preds_flat)"
      ],
      "metadata": {
        "id": "m-forCSYAn-6"
      },
      "execution_count": null,
      "outputs": []
    },
    {
      "cell_type": "code",
      "source": [
        "import seaborn as sns\n",
        "import matplotlib.pyplot as plt\n",
        "plt.figure(figsize=(8, 6))\n",
        "ax = sns.heatmap(cf_matrix, annot=True, cmap='Blues',fmt=\"d\")\n",
        "\n",
        "ax.set_title('Seaborn Confusion Matrix with labels\\n\\n');\n",
        "ax.set_xlabel('Predicted Category')\n",
        "ax.set_ylabel('Actual Category ');\n",
        "\n",
        "## Ticket labels - List must be in alphabetical order\n",
        "ax.xaxis.set_ticklabels([\"Negative\",\"Neutral\",\"Positive\"])\n",
        "ax.yaxis.set_ticklabels([\"Negative\",\"Neutral\",\"Positive\"])\n",
        "\n",
        "## Display the visualization of the Confusion Matrix.\n",
        "plt.show()"
      ],
      "metadata": {
        "colab": {
          "base_uri": "https://localhost:8080/",
          "height": 434
        },
        "id": "kNgsv2hbAqgb",
        "outputId": "3ceedf97-3072-4cbb-90d0-3729e83533e4"
      },
      "execution_count": null,
      "outputs": [
        {
          "output_type": "display_data",
          "data": {
            "text/plain": [
              "<Figure size 576x432 with 2 Axes>"
            ],
            "image/png": "[encoded data removed]"
          },
          "metadata": {
            "needs_background": "light"
          }
        }
      ]
    },
    {
      "cell_type": "code",
      "source": [
        "df=pd.DataFrame()\n",
        "df['Actual Label']= y_true\n",
        "df['Tokenised Text']=sent\n",
        "df['predictions']= preds_flat"
      ],
      "metadata": {
        "id": "ffiDPF5lBgGh"
      },
      "execution_count": null,
      "outputs": []
    },
    {
      "cell_type": "code",
      "source": [
        "#'Positive':2, 'Negative':0, 'Neutral':1\n",
        "df.head()"
      ],
      "metadata": {
        "colab": {
          "base_uri": "https://localhost:8080/",
          "height": 354
        },
        "id": "UsGD5j0DGYtj",
        "outputId": "4b0487d7-73ec-470d-d15d-e591aad0e607"
      },
      "execution_count": null,
      "outputs": [
        {
          "output_type": "execute_result",
          "data": {
            "text/plain": [
              "   Actual Label  \\\n",
              "0             0   \n",
              "1             0   \n",
              "2             1   \n",
              "3             0   \n",
              "4             2   \n",
              "\n",
              "                                                                                                                                                                                       Tokenised Text  \\\n",
              "0                    [[CLS], air, ##fra, ##nce, all, i, need, is, my, seat, assigned, and, no, one, will, help, me, just, divert, ##ing, us, to, different, places, lack, of, cu, https, ##tc, [SEP]]   \n",
              "1  [[CLS], just, when, you, think, air, france, can, ##t, get, any, more, un, ##pro, ##fe, ##ssion, ##al, they, go, and, contra, ##dict, themselves, worst, airline, https, ##tc, ##oot, ##gc, [SEP]]   \n",
              "2                   [[CLS], fly, ##be, im, trying, to, check, in, for, a, fly, ##be, flight, from, cd, ##g, tomorrow, red, ##ire, ##cted, to, an, air, france, website, which, can, ##t, find, [SEP]]   \n",
              "3                 [[CLS], air, ##fra, ##nce, james, ##v, ##mc, ##mo, ##rrow, you, guys, are, such, a, s, ##nob, ##by, rude, un, ##sy, ##mp, ##ath, ##etic, airline, don, ##t, even, try, this, [SEP]]   \n",
              "4    [[CLS], nat, ##i, ##2, ##de, air, ##fra, ##nce, ic, ##k, loved, your, pic, ##s, though, [SEP], [PAD], [PAD], [PAD], [PAD], [PAD], [PAD], [PAD], [PAD], [PAD], [PAD], [PAD], [PAD], [PAD], [PAD]]   \n",
              "\n",
              "   predictions  \n",
              "0            0  \n",
              "1            0  \n",
              "2            1  \n",
              "3            0  \n",
              "4            2  "
            ],
            "text/html": [
              "\n",
              "  <div id=\"df-fa34baf0-42d0-46b4-bf13-6222c30f2111\">\n",
              "    <div class=\"colab-df-container\">\n",
              "      <div>\n",
              "<style scoped>\n",
              "    .dataframe tbody tr th:only-of-type {\n",
              "        vertical-align: middle;\n",
              "    }\n",
              "\n",
              "    .dataframe tbody tr th {\n",
              "        vertical-align: top;\n",
              "    }\n",
              "\n",
              "    .dataframe thead th {\n",
              "        text-align: right;\n",
              "    }\n",
              "</style>\n",
              "<table border=\"1\" class=\"dataframe\">\n",
              "  <thead>\n",
              "    <tr style=\"text-align: right;\">\n",
              "      <th></th>\n",
              "      <th>Actual Label</th>\n",
              "      <th>Tokenised Text</th>\n",
              "      <th>predictions</th>\n",
              "    </tr>\n",
              "  </thead>\n",
              "  <tbody>\n",
              "    <tr>\n",
              "      <th>0</th>\n",
              "      <td>0</td>\n",
              "      <td>[[CLS], air, ##fra, ##nce, all, i, need, is, my, seat, assigned, and, no, one, will, help, me, just, divert, ##ing, us, to, different, places, lack, of, cu, https, ##tc, [SEP]]</td>\n",
              "      <td>0</td>\n",
              "    </tr>\n",
              "    <tr>\n",
              "      <th>1</th>\n",
              "      <td>0</td>\n",
              "      <td>[[CLS], just, when, you, think, air, france, can, ##t, get, any, more, un, ##pro, ##fe, ##ssion, ##al, they, go, and, contra, ##dict, themselves, worst, airline, https, ##tc, ##oot, ##gc, [SEP]]</td>\n",
              "      <td>0</td>\n",
              "    </tr>\n",
              "    <tr>\n",
              "      <th>2</th>\n",
              "      <td>1</td>\n",
              "      <td>[[CLS], fly, ##be, im, trying, to, check, in, for, a, fly, ##be, flight, from, cd, ##g, tomorrow, red, ##ire, ##cted, to, an, air, france, website, which, can, ##t, find, [SEP]]</td>\n",
              "      <td>1</td>\n",
              "    </tr>\n",
              "    <tr>\n",
              "      <th>3</th>\n",
              "      <td>0</td>\n",
              "      <td>[[CLS], air, ##fra, ##nce, james, ##v, ##mc, ##mo, ##rrow, you, guys, are, such, a, s, ##nob, ##by, rude, un, ##sy, ##mp, ##ath, ##etic, airline, don, ##t, even, try, this, [SEP]]</td>\n",
              "      <td>0</td>\n",
              "    </tr>\n",
              "    <tr>\n",
              "      <th>4</th>\n",
              "      <td>2</td>\n",
              "      <td>[[CLS], nat, ##i, ##2, ##de, air, ##fra, ##nce, ic, ##k, loved, your, pic, ##s, though, [SEP], [PAD], [PAD], [PAD], [PAD], [PAD], [PAD], [PAD], [PAD], [PAD], [PAD], [PAD], [PAD], [PAD], [PAD]]</td>\n",
              "      <td>2</td>\n",
              "    </tr>\n",
              "  </tbody>\n",
              "</table>\n",
              "</div>\n",
              "      <button class=\"colab-df-convert\" onclick=\"convertToInteractive('df-fa34baf0-42d0-46b4-bf13-6222c30f2111')\"\n",
              "              title=\"Convert this dataframe to an interactive table.\"\n",
              "              style=\"display:none;\">\n",
              "        \n",
              "  <svg xmlns=\"http://www.w3.org/2000/svg\" height=\"24px\"viewBox=\"0 0 24 24\"\n",
              "       width=\"24px\">\n",
              "    <path d=\"M0 0h24v24H0V0z\" fill=\"none\"/>\n",
              "    <path d=\"M18.56 5.44l.94 2.06.94-2.06 2.06-.94-2.06-.94-.94-2.06-.94 2.06-2.06.94zm-11 1L8.5 8.5l.94-2.06 2.06-.94-2.06-.94L8.5 2.5l-.94 2.06-2.06.94zm10 10l.94 2.06.94-2.06 2.06-.94-2.06-.94-.94-2.06-.94 2.06-2.06.94z\"/><path d=\"M17.41 7.96l-1.37-1.37c-.4-.4-.92-.59-1.43-.59-.52 0-1.04.2-1.43.59L10.3 9.45l-7.72 7.72c-.78.78-.78 2.05 0 2.83L4 21.41c.39.39.9.59 1.41.59.51 0 1.02-.2 1.41-.59l7.78-7.78 2.81-2.81c.8-.78.8-2.07 0-2.86zM5.41 20L4 18.59l7.72-7.72 1.47 1.35L5.41 20z\"/>\n",
              "  </svg>\n",
              "      </button>\n",
              "      \n",
              "  <style>\n",
              "    .colab-df-container {\n",
              "      display:flex;\n",
              "      flex-wrap:wrap;\n",
              "      gap: 12px;\n",
              "    }\n",
              "\n",
              "    .colab-df-convert {\n",
              "      background-color: #E8F0FE;\n",
              "      border: none;\n",
              "      border-radius: 50%;\n",
              "      cursor: pointer;\n",
              "      display: none;\n",
              "      fill: #1967D2;\n",
              "      height: 32px;\n",
              "      padding: 0 0 0 0;\n",
              "      width: 32px;\n",
              "    }\n",
              "\n",
              "    .colab-df-convert:hover {\n",
              "      background-color: #E2EBFA;\n",
              "      box-shadow: 0px 1px 2px rgba(60, 64, 67, 0.3), 0px 1px 3px 1px rgba(60, 64, 67, 0.15);\n",
              "      fill: #174EA6;\n",
              "    }\n",
              "\n",
              "    [theme=dark] .colab-df-convert {\n",
              "      background-color: #3B4455;\n",
              "      fill: #D2E3FC;\n",
              "    }\n",
              "\n",
              "    [theme=dark] .colab-df-convert:hover {\n",
              "      background-color: #434B5C;\n",
              "      box-shadow: 0px 1px 3px 1px rgba(0, 0, 0, 0.15);\n",
              "      filter: drop-shadow(0px 1px 2px rgba(0, 0, 0, 0.3));\n",
              "      fill: #FFFFFF;\n",
              "    }\n",
              "  </style>\n",
              "\n",
              "      <script>\n",
              "        const buttonEl =\n",
              "          document.querySelector('#df-fa34baf0-42d0-46b4-bf13-6222c30f2111 button.colab-df-convert');\n",
              "        buttonEl.style.display =\n",
              "          google.colab.kernel.accessAllowed ? 'block' : 'none';\n",
              "\n",
              "        async function convertToInteractive(key) {\n",
              "          const element = document.querySelector('#df-fa34baf0-42d0-46b4-bf13-6222c30f2111');\n",
              "          const dataTable =\n",
              "            await google.colab.kernel.invokeFunction('convertToInteractive',\n",
              "                                                     [key], {});\n",
              "          if (!dataTable) return;\n",
              "\n",
              "          const docLinkHtml = 'Like what you see? Visit the ' +\n",
              "            '<a target=\"_blank\" href=https://colab.research.google.com/notebooks/data_table.ipynb>data table notebook</a>'\n",
              "            + ' to learn more about interactive tables.';\n",
              "          element.innerHTML = '';\n",
              "          dataTable['output_type'] = 'display_data';\n",
              "          await google.colab.output.renderOutput(dataTable, element);\n",
              "          const docLink = document.createElement('div');\n",
              "          docLink.innerHTML = docLinkHtml;\n",
              "          element.appendChild(docLink);\n",
              "        }\n",
              "      </script>\n",
              "    </div>\n",
              "  </div>\n",
              "  "
            ]
          },
          "metadata": {},
          "execution_count": 129
        }
      ]
    }
  ]
}